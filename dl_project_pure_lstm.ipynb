{
 "cells": [
  {
   "cell_type": "code",
   "execution_count": 43,
   "metadata": {
    "id": "BtJvnCz2V-Jt"
   },
   "outputs": [
    {
     "name": "stdout",
     "output_type": "stream",
     "text": [
      "Collecting google-auth\n",
      "  Downloading google_auth-2.29.0-py2.py3-none-any.whl.metadata (4.7 kB)\n",
      "Collecting google-auth-oauthlib\n",
      "  Downloading google_auth_oauthlib-1.2.0-py2.py3-none-any.whl.metadata (2.7 kB)\n",
      "Collecting google-auth-httplib2\n",
      "  Downloading google_auth_httplib2-0.2.0-py2.py3-none-any.whl.metadata (2.2 kB)\n",
      "Requirement already satisfied: cachetools<6.0,>=2.0.0 in /opt/conda/lib/python3.11/site-packages (from google-auth) (5.3.2)\n",
      "Collecting pyasn1-modules>=0.2.1 (from google-auth)\n",
      "  Downloading pyasn1_modules-0.4.0-py3-none-any.whl.metadata (3.4 kB)\n",
      "Collecting rsa<5,>=3.1.4 (from google-auth)\n",
      "  Downloading rsa-4.9-py3-none-any.whl.metadata (4.2 kB)\n",
      "Collecting requests-oauthlib>=0.7.0 (from google-auth-oauthlib)\n",
      "  Downloading requests_oauthlib-2.0.0-py2.py3-none-any.whl.metadata (11 kB)\n",
      "Collecting httplib2>=0.19.0 (from google-auth-httplib2)\n",
      "  Downloading httplib2-0.22.0-py3-none-any.whl.metadata (2.6 kB)\n",
      "Requirement already satisfied: pyparsing!=3.0.0,!=3.0.1,!=3.0.2,!=3.0.3,<4,>=2.4.2 in /opt/conda/lib/python3.11/site-packages (from httplib2>=0.19.0->google-auth-httplib2) (3.1.2)\n",
      "Collecting pyasn1<0.7.0,>=0.4.6 (from pyasn1-modules>=0.2.1->google-auth)\n",
      "  Downloading pyasn1-0.6.0-py2.py3-none-any.whl.metadata (8.3 kB)\n",
      "Requirement already satisfied: oauthlib>=3.0.0 in /opt/conda/lib/python3.11/site-packages (from requests-oauthlib>=0.7.0->google-auth-oauthlib) (3.2.2)\n",
      "Requirement already satisfied: requests>=2.0.0 in /opt/conda/lib/python3.11/site-packages (from requests-oauthlib>=0.7.0->google-auth-oauthlib) (2.31.0)\n",
      "Requirement already satisfied: charset-normalizer<4,>=2 in /opt/conda/lib/python3.11/site-packages (from requests>=2.0.0->requests-oauthlib>=0.7.0->google-auth-oauthlib) (3.3.2)\n",
      "Requirement already satisfied: idna<4,>=2.5 in /opt/conda/lib/python3.11/site-packages (from requests>=2.0.0->requests-oauthlib>=0.7.0->google-auth-oauthlib) (3.4)\n",
      "Requirement already satisfied: urllib3<3,>=1.21.1 in /opt/conda/lib/python3.11/site-packages (from requests>=2.0.0->requests-oauthlib>=0.7.0->google-auth-oauthlib) (2.1.0)\n",
      "Requirement already satisfied: certifi>=2017.4.17 in /opt/conda/lib/python3.11/site-packages (from requests>=2.0.0->requests-oauthlib>=0.7.0->google-auth-oauthlib) (2023.7.22)\n",
      "Downloading google_auth-2.29.0-py2.py3-none-any.whl (189 kB)\n",
      "\u001b[2K   \u001b[90m━━━━━━━━━━━━━━━━━━━━━━━━━━━━━━━━━━━━━━━\u001b[0m \u001b[32m189.2/189.2 kB\u001b[0m \u001b[31m676.8 kB/s\u001b[0m eta \u001b[36m0:00:00\u001b[0ma \u001b[36m0:00:01\u001b[0m\n",
      "\u001b[?25hDownloading google_auth_oauthlib-1.2.0-py2.py3-none-any.whl (24 kB)\n",
      "Downloading google_auth_httplib2-0.2.0-py2.py3-none-any.whl (9.3 kB)\n",
      "Downloading httplib2-0.22.0-py3-none-any.whl (96 kB)\n",
      "\u001b[2K   \u001b[90m━━━━━━━━━━━━━━━━━━━━━━━━━━━━━━━━━━━━━━━━\u001b[0m \u001b[32m96.9/96.9 kB\u001b[0m \u001b[31m324.1 kB/s\u001b[0m eta \u001b[36m0:00:00\u001b[0ma \u001b[36m0:00:01\u001b[0m\n",
      "\u001b[?25hDownloading pyasn1_modules-0.4.0-py3-none-any.whl (181 kB)\n",
      "\u001b[2K   \u001b[90m━━━━━━━━━━━━━━━━━━━━━━━━━━━━━━━━━━━━━━━\u001b[0m \u001b[32m181.2/181.2 kB\u001b[0m \u001b[31m644.5 kB/s\u001b[0m eta \u001b[36m0:00:00\u001b[0ma \u001b[36m0:00:01\u001b[0m\n",
      "\u001b[?25hDownloading requests_oauthlib-2.0.0-py2.py3-none-any.whl (24 kB)\n",
      "Downloading rsa-4.9-py3-none-any.whl (34 kB)\n",
      "Downloading pyasn1-0.6.0-py2.py3-none-any.whl (85 kB)\n",
      "\u001b[2K   \u001b[90m━━━━━━━━━━━━━━━━━━━━━━━━━━━━━━━━━━━━━━━━\u001b[0m \u001b[32m85.3/85.3 kB\u001b[0m \u001b[31m182.9 kB/s\u001b[0m eta \u001b[36m0:00:00\u001b[0ma \u001b[36m0:00:01\u001b[0m\n",
      "\u001b[?25hInstalling collected packages: pyasn1, httplib2, rsa, requests-oauthlib, pyasn1-modules, google-auth, google-auth-oauthlib, google-auth-httplib2\n",
      "Successfully installed google-auth-2.29.0 google-auth-httplib2-0.2.0 google-auth-oauthlib-1.2.0 httplib2-0.22.0 pyasn1-0.6.0 pyasn1-modules-0.4.0 requests-oauthlib-2.0.0 rsa-4.9\n",
      "Collecting google-api-python-client\n",
      "  Downloading google_api_python_client-2.125.0-py2.py3-none-any.whl.metadata (6.6 kB)\n",
      "Requirement already satisfied: httplib2<1.dev0,>=0.19.0 in /opt/conda/lib/python3.11/site-packages (from google-api-python-client) (0.22.0)\n",
      "Requirement already satisfied: google-auth!=2.24.0,!=2.25.0,<3.0.0.dev0,>=1.32.0 in /opt/conda/lib/python3.11/site-packages (from google-api-python-client) (2.29.0)\n",
      "Requirement already satisfied: google-auth-httplib2<1.0.0,>=0.2.0 in /opt/conda/lib/python3.11/site-packages (from google-api-python-client) (0.2.0)\n",
      "Collecting google-api-core!=2.0.*,!=2.1.*,!=2.2.*,!=2.3.0,<3.0.0.dev0,>=1.31.5 (from google-api-python-client)\n",
      "  Downloading google_api_core-2.18.0-py3-none-any.whl.metadata (2.7 kB)\n",
      "Collecting uritemplate<5,>=3.0.1 (from google-api-python-client)\n",
      "  Downloading uritemplate-4.1.1-py2.py3-none-any.whl.metadata (2.9 kB)\n",
      "Collecting googleapis-common-protos<2.0.dev0,>=1.56.2 (from google-api-core!=2.0.*,!=2.1.*,!=2.2.*,!=2.3.0,<3.0.0.dev0,>=1.31.5->google-api-python-client)\n",
      "  Downloading googleapis_common_protos-1.63.0-py2.py3-none-any.whl.metadata (1.5 kB)\n",
      "Collecting protobuf!=3.20.0,!=3.20.1,!=4.21.0,!=4.21.1,!=4.21.2,!=4.21.3,!=4.21.4,!=4.21.5,<5.0.0.dev0,>=3.19.5 (from google-api-core!=2.0.*,!=2.1.*,!=2.2.*,!=2.3.0,<3.0.0.dev0,>=1.31.5->google-api-python-client)\n",
      "  Downloading protobuf-4.25.3-cp37-abi3-manylinux2014_x86_64.whl.metadata (541 bytes)\n",
      "Collecting proto-plus<2.0.0dev,>=1.22.3 (from google-api-core!=2.0.*,!=2.1.*,!=2.2.*,!=2.3.0,<3.0.0.dev0,>=1.31.5->google-api-python-client)\n",
      "  Downloading proto_plus-1.23.0-py3-none-any.whl.metadata (2.2 kB)\n",
      "Requirement already satisfied: requests<3.0.0.dev0,>=2.18.0 in /opt/conda/lib/python3.11/site-packages (from google-api-core!=2.0.*,!=2.1.*,!=2.2.*,!=2.3.0,<3.0.0.dev0,>=1.31.5->google-api-python-client) (2.31.0)\n",
      "Requirement already satisfied: cachetools<6.0,>=2.0.0 in /opt/conda/lib/python3.11/site-packages (from google-auth!=2.24.0,!=2.25.0,<3.0.0.dev0,>=1.32.0->google-api-python-client) (5.3.2)\n",
      "Requirement already satisfied: pyasn1-modules>=0.2.1 in /opt/conda/lib/python3.11/site-packages (from google-auth!=2.24.0,!=2.25.0,<3.0.0.dev0,>=1.32.0->google-api-python-client) (0.4.0)\n",
      "Requirement already satisfied: rsa<5,>=3.1.4 in /opt/conda/lib/python3.11/site-packages (from google-auth!=2.24.0,!=2.25.0,<3.0.0.dev0,>=1.32.0->google-api-python-client) (4.9)\n",
      "Requirement already satisfied: pyparsing!=3.0.0,!=3.0.1,!=3.0.2,!=3.0.3,<4,>=2.4.2 in /opt/conda/lib/python3.11/site-packages (from httplib2<1.dev0,>=0.19.0->google-api-python-client) (3.1.2)\n",
      "Requirement already satisfied: pyasn1<0.7.0,>=0.4.6 in /opt/conda/lib/python3.11/site-packages (from pyasn1-modules>=0.2.1->google-auth!=2.24.0,!=2.25.0,<3.0.0.dev0,>=1.32.0->google-api-python-client) (0.6.0)\n",
      "Requirement already satisfied: charset-normalizer<4,>=2 in /opt/conda/lib/python3.11/site-packages (from requests<3.0.0.dev0,>=2.18.0->google-api-core!=2.0.*,!=2.1.*,!=2.2.*,!=2.3.0,<3.0.0.dev0,>=1.31.5->google-api-python-client) (3.3.2)\n",
      "Requirement already satisfied: idna<4,>=2.5 in /opt/conda/lib/python3.11/site-packages (from requests<3.0.0.dev0,>=2.18.0->google-api-core!=2.0.*,!=2.1.*,!=2.2.*,!=2.3.0,<3.0.0.dev0,>=1.31.5->google-api-python-client) (3.4)\n",
      "Requirement already satisfied: urllib3<3,>=1.21.1 in /opt/conda/lib/python3.11/site-packages (from requests<3.0.0.dev0,>=2.18.0->google-api-core!=2.0.*,!=2.1.*,!=2.2.*,!=2.3.0,<3.0.0.dev0,>=1.31.5->google-api-python-client) (2.1.0)\n",
      "Requirement already satisfied: certifi>=2017.4.17 in /opt/conda/lib/python3.11/site-packages (from requests<3.0.0.dev0,>=2.18.0->google-api-core!=2.0.*,!=2.1.*,!=2.2.*,!=2.3.0,<3.0.0.dev0,>=1.31.5->google-api-python-client) (2023.7.22)\n",
      "Downloading google_api_python_client-2.125.0-py2.py3-none-any.whl (12.5 MB)\n",
      "\u001b[2K   \u001b[90m━━━━━━━━━━━━━━━━━━━━━━━━━━━━━━━━━━━━━━━━\u001b[0m \u001b[32m12.5/12.5 MB\u001b[0m \u001b[31m17.8 MB/s\u001b[0m eta \u001b[36m0:00:00\u001b[0m:00:01\u001b[0m00:01\u001b[0m\n",
      "\u001b[?25hDownloading google_api_core-2.18.0-py3-none-any.whl (138 kB)\n",
      "\u001b[2K   \u001b[90m━━━━━━━━━━━━━━━━━━━━━━━━━━━━━━━━━━━━━━━\u001b[0m \u001b[32m138.3/138.3 kB\u001b[0m \u001b[31m501.0 kB/s\u001b[0m eta \u001b[36m0:00:00\u001b[0ma \u001b[36m0:00:01\u001b[0m\n",
      "\u001b[?25hDownloading uritemplate-4.1.1-py2.py3-none-any.whl (10 kB)\n",
      "Downloading googleapis_common_protos-1.63.0-py2.py3-none-any.whl (229 kB)\n",
      "\u001b[2K   \u001b[90m━━━━━━━━━━━━━━━━━━━━━━━━━━━━━━━━━━━━━━━\u001b[0m \u001b[32m229.1/229.1 kB\u001b[0m \u001b[31m875.7 kB/s\u001b[0m eta \u001b[36m0:00:00\u001b[0m00:01\u001b[0m\n",
      "\u001b[?25hDownloading proto_plus-1.23.0-py3-none-any.whl (48 kB)\n",
      "\u001b[2K   \u001b[90m━━━━━━━━━━━━━━━━━━━━━━━━━━━━━━━━━━━━━━━━\u001b[0m \u001b[32m48.8/48.8 kB\u001b[0m \u001b[31m135.3 kB/s\u001b[0m eta \u001b[36m0:00:00\u001b[0ma \u001b[36m0:00:01\u001b[0m\n",
      "\u001b[?25hDownloading protobuf-4.25.3-cp37-abi3-manylinux2014_x86_64.whl (294 kB)\n",
      "\u001b[2K   \u001b[90m━━━━━━━━━━━━━━━━━━━━━━━━━━━━━━━━━━━━━━━━\u001b[0m \u001b[32m294.6/294.6 kB\u001b[0m \u001b[31m1.0 MB/s\u001b[0m eta \u001b[36m0:00:00\u001b[0mta \u001b[36m0:00:01\u001b[0m\n",
      "\u001b[?25hInstalling collected packages: uritemplate, protobuf, proto-plus, googleapis-common-protos, google-api-core, google-api-python-client\n",
      "Successfully installed google-api-core-2.18.0 google-api-python-client-2.125.0 googleapis-common-protos-1.63.0 proto-plus-1.23.0 protobuf-4.25.3 uritemplate-4.1.1\n"
     ]
    }
   ],
   "source": [
    "!pip install google-auth google-auth-oauthlib google-auth-httplib2\n",
    "!pip install google-api-python-client"
   ]
  },
  {
   "cell_type": "code",
   "execution_count": 45,
   "metadata": {
    "id": "corA_dYEQG3q"
   },
   "outputs": [],
   "source": [
    "# Authenticate with service account credentials\n",
    "from google.oauth2 import service_account\n",
    "from google.auth.transport.requests import Request\n",
    "# Access Google Drive using the authenticated credentials\n",
    "from googleapiclient.discovery import build\n",
    "from googleapiclient.http import MediaFileUpload,MediaIoBaseDownload\n",
    "import os\n",
    "import io\n",
    "from google_drive_utils import *\n",
    "from helper_utils import *"
   ]
  },
  {
   "cell_type": "code",
   "execution_count": 47,
   "metadata": {
    "colab": {
     "base_uri": "https://localhost:8080/"
    },
    "id": "PK5XVnTGWXo5",
    "outputId": "2ba5c291-50ef-449e-a31d-3f7dfa0aeb7f"
   },
   "outputs": [
    {
     "name": "stdout",
     "output_type": "stream",
     "text": [
      "fount dataset in drive\n",
      "starting download...\n",
      "Download 31.\n",
      "Download 63.\n",
      "Download 95.\n",
      "Download 100.\n"
     ]
    }
   ],
   "source": [
    "drive_service = get_drive_service()\n",
    "get_dataset_from_drive(drive_service)"
   ]
  },
  {
   "cell_type": "code",
   "execution_count": 48,
   "metadata": {
    "id": "3TdPt7itWZVM"
   },
   "outputs": [
    {
     "name": "stdout",
     "output_type": "stream",
     "text": [
      "Archive:  apnea-ecg-database-1.0.0.zip\n",
      "   creating: apnea-ecg-database-1.0.0/challenge/\n",
      "replace apnea-ecg-database-1.0.0/x02.apn? [y]es, [n]o, [A]ll, [N]one, [r]ename: ^C\n"
     ]
    }
   ],
   "source": [
    "!unzip apnea-ecg-database-1.0.0.zip -d apnea-ecg-database-1.0.0"
   ]
  },
  {
   "cell_type": "code",
   "execution_count": 11,
   "metadata": {
    "colab": {
     "base_uri": "https://localhost:8080/"
    },
    "id": "soDxfYBrXVxA",
    "outputId": "807466f7-932f-41c1-f752-4dafd1a05071"
   },
   "outputs": [
    {
     "name": "stdout",
     "output_type": "stream",
     "text": [
      "Requirement already satisfied: wfdb in /opt/conda/lib/python3.11/site-packages (4.1.2)\n",
      "Requirement already satisfied: SoundFile>=0.10.0 in /opt/conda/lib/python3.11/site-packages (from wfdb) (0.12.1)\n",
      "Requirement already satisfied: matplotlib>=3.2.2 in /opt/conda/lib/python3.11/site-packages (from wfdb) (3.8.4)\n",
      "Requirement already satisfied: numpy>=1.10.1 in /opt/conda/lib/python3.11/site-packages (from wfdb) (1.26.0)\n",
      "Requirement already satisfied: pandas>=1.3.0 in /opt/conda/lib/python3.11/site-packages (from wfdb) (2.2.2)\n",
      "Requirement already satisfied: requests>=2.8.1 in /opt/conda/lib/python3.11/site-packages (from wfdb) (2.31.0)\n",
      "Requirement already satisfied: scipy>=1.0.0 in /opt/conda/lib/python3.11/site-packages (from wfdb) (1.13.0)\n",
      "Requirement already satisfied: contourpy>=1.0.1 in /opt/conda/lib/python3.11/site-packages (from matplotlib>=3.2.2->wfdb) (1.2.1)\n",
      "Requirement already satisfied: cycler>=0.10 in /opt/conda/lib/python3.11/site-packages (from matplotlib>=3.2.2->wfdb) (0.12.1)\n",
      "Requirement already satisfied: fonttools>=4.22.0 in /opt/conda/lib/python3.11/site-packages (from matplotlib>=3.2.2->wfdb) (4.51.0)\n",
      "Requirement already satisfied: kiwisolver>=1.3.1 in /opt/conda/lib/python3.11/site-packages (from matplotlib>=3.2.2->wfdb) (1.4.5)\n",
      "Requirement already satisfied: packaging>=20.0 in /opt/conda/lib/python3.11/site-packages (from matplotlib>=3.2.2->wfdb) (23.2)\n",
      "Requirement already satisfied: pillow>=8 in /opt/conda/lib/python3.11/site-packages (from matplotlib>=3.2.2->wfdb) (9.3.0)\n",
      "Requirement already satisfied: pyparsing>=2.3.1 in /opt/conda/lib/python3.11/site-packages (from matplotlib>=3.2.2->wfdb) (3.1.2)\n",
      "Requirement already satisfied: python-dateutil>=2.7 in /opt/conda/lib/python3.11/site-packages (from matplotlib>=3.2.2->wfdb) (2.8.2)\n",
      "Requirement already satisfied: pytz>=2020.1 in /opt/conda/lib/python3.11/site-packages (from pandas>=1.3.0->wfdb) (2023.3.post1)\n",
      "Requirement already satisfied: tzdata>=2022.7 in /opt/conda/lib/python3.11/site-packages (from pandas>=1.3.0->wfdb) (2024.1)\n",
      "Requirement already satisfied: charset-normalizer<4,>=2 in /opt/conda/lib/python3.11/site-packages (from requests>=2.8.1->wfdb) (3.3.2)\n",
      "Requirement already satisfied: idna<4,>=2.5 in /opt/conda/lib/python3.11/site-packages (from requests>=2.8.1->wfdb) (3.4)\n",
      "Requirement already satisfied: urllib3<3,>=1.21.1 in /opt/conda/lib/python3.11/site-packages (from requests>=2.8.1->wfdb) (2.1.0)\n",
      "Requirement already satisfied: certifi>=2017.4.17 in /opt/conda/lib/python3.11/site-packages (from requests>=2.8.1->wfdb) (2023.7.22)\n",
      "Requirement already satisfied: cffi>=1.0 in /opt/conda/lib/python3.11/site-packages (from SoundFile>=0.10.0->wfdb) (1.16.0)\n",
      "Requirement already satisfied: pycparser in /opt/conda/lib/python3.11/site-packages (from cffi>=1.0->SoundFile>=0.10.0->wfdb) (2.21)\n",
      "Requirement already satisfied: six>=1.5 in /opt/conda/lib/python3.11/site-packages (from python-dateutil>=2.7->matplotlib>=3.2.2->wfdb) (1.16.0)\n",
      "Note: you may need to restart the kernel to use updated packages.\n",
      "Requirement already satisfied: seaborn in /opt/conda/lib/python3.11/site-packages (0.13.2)\n",
      "Requirement already satisfied: numpy!=1.24.0,>=1.20 in /opt/conda/lib/python3.11/site-packages (from seaborn) (1.26.0)\n",
      "Requirement already satisfied: pandas>=1.2 in /opt/conda/lib/python3.11/site-packages (from seaborn) (2.2.2)\n",
      "Requirement already satisfied: matplotlib!=3.6.1,>=3.4 in /opt/conda/lib/python3.11/site-packages (from seaborn) (3.8.4)\n",
      "Requirement already satisfied: contourpy>=1.0.1 in /opt/conda/lib/python3.11/site-packages (from matplotlib!=3.6.1,>=3.4->seaborn) (1.2.1)\n",
      "Requirement already satisfied: cycler>=0.10 in /opt/conda/lib/python3.11/site-packages (from matplotlib!=3.6.1,>=3.4->seaborn) (0.12.1)\n",
      "Requirement already satisfied: fonttools>=4.22.0 in /opt/conda/lib/python3.11/site-packages (from matplotlib!=3.6.1,>=3.4->seaborn) (4.51.0)\n",
      "Requirement already satisfied: kiwisolver>=1.3.1 in /opt/conda/lib/python3.11/site-packages (from matplotlib!=3.6.1,>=3.4->seaborn) (1.4.5)\n",
      "Requirement already satisfied: packaging>=20.0 in /opt/conda/lib/python3.11/site-packages (from matplotlib!=3.6.1,>=3.4->seaborn) (23.2)\n",
      "Requirement already satisfied: pillow>=8 in /opt/conda/lib/python3.11/site-packages (from matplotlib!=3.6.1,>=3.4->seaborn) (9.3.0)\n",
      "Requirement already satisfied: pyparsing>=2.3.1 in /opt/conda/lib/python3.11/site-packages (from matplotlib!=3.6.1,>=3.4->seaborn) (3.1.2)\n",
      "Requirement already satisfied: python-dateutil>=2.7 in /opt/conda/lib/python3.11/site-packages (from matplotlib!=3.6.1,>=3.4->seaborn) (2.8.2)\n",
      "Requirement already satisfied: pytz>=2020.1 in /opt/conda/lib/python3.11/site-packages (from pandas>=1.2->seaborn) (2023.3.post1)\n",
      "Requirement already satisfied: tzdata>=2022.7 in /opt/conda/lib/python3.11/site-packages (from pandas>=1.2->seaborn) (2024.1)\n",
      "Requirement already satisfied: six>=1.5 in /opt/conda/lib/python3.11/site-packages (from python-dateutil>=2.7->matplotlib!=3.6.1,>=3.4->seaborn) (1.16.0)\n",
      "Note: you may need to restart the kernel to use updated packages.\n",
      "Requirement already satisfied: scipy in /opt/conda/lib/python3.11/site-packages (1.13.0)\n",
      "Requirement already satisfied: numpy<2.3,>=1.22.4 in /opt/conda/lib/python3.11/site-packages (from scipy) (1.26.0)\n",
      "Note: you may need to restart the kernel to use updated packages.\n"
     ]
    }
   ],
   "source": [
    "%pip install wfdb\n",
    "%pip install seaborn\n",
    "%pip install scipy"
   ]
  },
  {
   "cell_type": "code",
   "execution_count": 49,
   "metadata": {
    "id": "pMR30nrGV6lg"
   },
   "outputs": [],
   "source": [
    "# import the WFDB package\n",
    "import wfdb\n",
    "import numpy as np\n",
    "import scipy\n",
    "from scipy.signal import butter, filtfilt, cheby1, freqz\n",
    "import matplotlib.pyplot as plt"
   ]
  },
  {
   "cell_type": "markdown",
   "metadata": {
    "id": "kZQ6Jl9QV6l1"
   },
   "source": [
    "### Autocorrelation function (ACF) (https://stackoverflow.com/questions/643699/how-can-i-use-numpy-correlate-to-do-autocorrelation)"
   ]
  },
  {
   "cell_type": "code",
   "execution_count": 50,
   "metadata": {
    "id": "SsxUN01IV6l1"
   },
   "outputs": [],
   "source": [
    "def autocorr(x):\n",
    "    result = np.correlate(x, x, mode='full')[len(x)-1:]\n",
    "    print(result.size)\n",
    "    return result\n",
    "def get_weights(correlation):\n",
    "  return np.sum(correlation, axis = 0)"
   ]
  },
  {
   "cell_type": "markdown",
   "metadata": {
    "id": "RO3E1zZMQhGw"
   },
   "source": [
    "## Signal Preprocessing"
   ]
  },
  {
   "cell_type": "code",
   "execution_count": 51,
   "metadata": {
    "id": "AugSbvDhZKpD"
   },
   "outputs": [],
   "source": [
    "def chebyshev_filter(record):\n",
    "  # Sampling parameters\n",
    "  fs = 100  # Hz, as given in the dataset description\n",
    "\n",
    "  # Desired filter parameters\n",
    "  order = 5 # Polynomial order of the waveform (this current value is an estimation)\n",
    "  Apass = 1.5  # dB, pass-band attuenation which I believe is max allowable amplitude\n",
    "  fcut = 48    # Hz, cut-off frequency (research paper used 0.5 and 48 Hz)\n",
    "\n",
    "  # Normalized frequency argument for cheby1\n",
    "  wn = fcut / (0.5*fs) # Value to be within 0 and 1\n",
    "\n",
    "  [b, a] = cheby1(order, Apass, wn)\n",
    "\n",
    "  w, h = freqz(b, a, worN=8000)\n",
    "\n",
    "  sos = cheby1(order, Apass, wn, output=\"sos\")\n",
    "\n",
    "  signal = record.p_signal\n",
    "  # print(signal.shape)\n",
    "  filtered_signal = scipy.signal.sosfilt(sos, signal)\n",
    "  return filtered_signal"
   ]
  },
  {
   "cell_type": "code",
   "execution_count": 52,
   "metadata": {
    "id": "ipfMXLFyy4Qi"
   },
   "outputs": [],
   "source": [
    "from scipy.signal import spectrogram\n",
    "from scipy.signal.windows import gaussian\n",
    "def create_spectrogram(signal, nfft = 128, sample_frequency = 100, stride = 0):\n",
    "  # print(signal.shape)\n",
    "  signal_spectrogram,freq,t,im = plt.specgram(signal, Fs = sample_frequency, NFFT = nfft, noverlap=stride, cmap = 'jet_r')\n",
    "  return signal_spectrogram,freq,t"
   ]
  },
  {
   "cell_type": "markdown",
   "metadata": {
    "id": "S_XQlzVnTNw6"
   },
   "source": [
    "# LSTM Model"
   ]
  },
  {
   "cell_type": "code",
   "execution_count": 53,
   "metadata": {
    "id": "lY13eBBvxmAY"
   },
   "outputs": [],
   "source": [
    "import torchvision\n",
    "from PIL import Image\n",
    "from torch import nn\n",
    "from torch.utils.data import Dataset, DataLoader\n",
    "import torch\n",
    "from torchvision import io\n",
    "import torchvision\n",
    "import torchvision.transforms as T"
   ]
  },
  {
   "cell_type": "markdown",
   "metadata": {
    "id": "jRDvb-ZEo6iP"
   },
   "source": [
    "### Dataset"
   ]
  },
  {
   "cell_type": "code",
   "execution_count": 54,
   "metadata": {
    "id": "IE-BLMs8RtTW"
   },
   "outputs": [],
   "source": [
    "def get_spectrogram_and_annotations(file_path, fs = 100):\n",
    "  \"\"\"Split up spectrogram into segments of around 60s in length\"\"\"\n",
    "  signal_record = wfdb.rdrecord(file_path)\n",
    "  signal = wfdb.rdrecord(file_path).p_signal\n",
    "  signal_length = len(signal)\n",
    "  filtered_signal = chebyshev_filter(signal_record)\n",
    "  filtered_signal = np.array(filtered_signal).flatten()\n",
    "  spectrogram,freqs,times = create_spectrogram(filtered_signal)\n",
    "  spectrogram_length = spectrogram.shape[1]\n",
    "  annotations = [[t] for t in wfdb.rdann(file_path, extension = \"apn\").symbol]\n",
    "  num_annotations = len(annotations)\n",
    "  # spectrogram_segment_width = np.max(np.where(times < 60))\n",
    "  # spectrogram_gap = spectrogram_length // num_annotations\n",
    "  # spectrogram_end = (signal_length / fs) // num_annotations * num_annotations\n",
    "  segment_spectrograms = []\n",
    "  segment_times = []\n",
    "  time_gap = round(signal_length / fs / num_annotations,1)\n",
    "  time_window_start = 0\n",
    "  time_window_end = time_gap\n",
    "  start_index = -1\n",
    "  end_index = -1\n",
    "  while time_window_end <= times[-1]:\n",
    "    start_index = np.min(np.where(times >= time_window_start))\n",
    "    end_index = np.min(np.where(times >= time_window_end))\n",
    "    segment_spectrograms.append(spectrogram[:,start_index:end_index])\n",
    "    segment_times.append(times[start_index:end_index])\n",
    "    time_window_start+=time_gap\n",
    "    time_window_end+=time_gap\n",
    "  if len(segment_spectrograms) < num_annotations:\n",
    "    start_index =  np.min(np.where(times >= time_window_start))\n",
    "    segment_spectrograms.append(spectrogram[:,start_index:-1])\n",
    "  correct_spectrogram_shape = segment_spectrograms[0].shape[1]\n",
    "  print(f\"number of spectrograms: {len(segment_spectrograms)}, number of annotations: {len(annotations)}\")\n",
    "  assert(len(segment_spectrograms) == len(annotations))\n",
    "  for i,spec in enumerate(segment_spectrograms):\n",
    "    if abs(spec.shape[1] - correct_spectrogram_shape)>5:\n",
    "      print('different spectrogram shape at index',i)\n",
    "      print(i, spec.shape)\n",
    "  correct_annotation_shape = len(annotations[0])\n",
    "  for i,ann in enumerate(annotations):\n",
    "    if abs(len(ann) - correct_annotation_shape)>5:\n",
    "      print('different annotation shape at index',i)\n",
    "      print(i, len(ann))\n",
    "    assert(len(ann) == correct_annotation_shape)\n",
    "  return segment_spectrograms,annotations"
   ]
  },
  {
   "cell_type": "markdown",
   "metadata": {},
   "source": [
    "### Creating feature transformation objects for pre processing"
   ]
  },
  {
   "cell_type": "code",
   "execution_count": 55,
   "metadata": {
    "id": "XqmqVkIGDEO9"
   },
   "outputs": [],
   "source": [
    "# from https://www.kaggle.com/code/smjishanulislam/audio-mnist-with-pytorch\n",
    "feature_transform_resize = T.Compose([\n",
    "    T.ToPILImage(), # convert spectrogram to image\n",
    "    T.Resize((100,100)),\n",
    "    T.ToTensor() # convert to tensor\n",
    "])\n",
    "\n",
    "feature_transform = T.Compose([\n",
    "    T.ToPILImage(), # convert spectrogram to image\n",
    "    T.ToTensor() # convert to tensor\n",
    "])"
   ]
  },
  {
   "cell_type": "code",
   "execution_count": 56,
   "metadata": {
    "id": "uf5hY0gSS668"
   },
   "outputs": [],
   "source": [
    "class SpectrogramDataset(Dataset):\n",
    "  def __init__(self, file_paths = [], resize_spectrogram = True):\n",
    "    super().__init__()\n",
    "    self.spectrograms = []\n",
    "    self.annotations = []\n",
    "    self.resize_spectrogram = resize_spectrogram\n",
    "    # add data from multiple files to this dataset\n",
    "    for file_path in file_paths:\n",
    "      segment_spectrograms, segment_annotations = get_spectrogram_and_annotations(file_path)\n",
    "      self.spectrograms.extend(segment_spectrograms)\n",
    "      self.annotations.extend(segment_annotations)\n",
    "    self.spectrograms = [torch.from_numpy(spectrogram) for spectrogram in self.spectrograms]\n",
    "\n",
    "  def __getitem__(self, idx):\n",
    "    src = feature_transform_resize(self.spectrograms[idx]) * 10000 \\\n",
    "      if self.resize_spectrogram \\\n",
    "      else feature_transform(self.spectrograms[idx]) * 10000 \n",
    "    trg = self.annotations[idx]\n",
    "    trg = self.annotations[idx]\n",
    "    if trg[0] == \"N\":\n",
    "      trg[0] = 0\n",
    "    elif trg[0] == \"A\":\n",
    "      trg[0] = 1\n",
    "    return src, trg\n",
    "  def __len__(self):\n",
    "    return len(self.spectrograms)"
   ]
  },
  {
   "cell_type": "markdown",
   "metadata": {},
   "source": [
    "### Reading files"
   ]
  },
  {
   "cell_type": "code",
   "execution_count": 57,
   "metadata": {
    "colab": {
     "base_uri": "https://localhost:8080/"
    },
    "id": "PAv7XVw7LjWG",
    "outputId": "ecc50eed-237c-4a73-ee16-e0d8a7319dd5"
   },
   "outputs": [
    {
     "name": "stdout",
     "output_type": "stream",
     "text": [
      "===> distribution of annotations across files\n",
      "apnea-ecg-database-1.0.0/a01\n",
      "(array(['A', 'N'], dtype='<U1'), array([470,  19]))\n",
      "apnea-ecg-database-1.0.0/a02\n",
      "(array(['A', 'N'], dtype='<U1'), array([420, 108]))\n",
      "apnea-ecg-database-1.0.0/a03\n",
      "(array(['A', 'N'], dtype='<U1'), array([246, 273]))\n",
      "apnea-ecg-database-1.0.0/a04\n",
      "(array(['A', 'N'], dtype='<U1'), array([453,  39]))\n",
      "apnea-ecg-database-1.0.0/a05\n",
      "(array(['A', 'N'], dtype='<U1'), array([276, 178]))\n",
      "apnea-ecg-database-1.0.0/b01\n",
      "(array(['A', 'N'], dtype='<U1'), array([ 19, 468]))\n",
      "apnea-ecg-database-1.0.0/b02\n",
      "(array(['A', 'N'], dtype='<U1'), array([ 93, 424]))\n",
      "apnea-ecg-database-1.0.0/b03\n",
      "(array(['A', 'N'], dtype='<U1'), array([ 73, 368]))\n",
      "apnea-ecg-database-1.0.0/b04\n",
      "(array(['A', 'N'], dtype='<U1'), array([ 10, 419]))\n",
      "apnea-ecg-database-1.0.0/b05\n",
      "(array(['A', 'N'], dtype='<U1'), array([ 57, 376]))\n",
      "apnea-ecg-database-1.0.0/c01\n",
      "(array(['N'], dtype='<U1'), array([484]))\n",
      "apnea-ecg-database-1.0.0/c02\n",
      "(array(['A', 'N'], dtype='<U1'), array([  1, 501]))\n",
      "apnea-ecg-database-1.0.0/c03\n",
      "(array(['N'], dtype='<U1'), array([454]))\n",
      "apnea-ecg-database-1.0.0/c04\n",
      "(array(['N'], dtype='<U1'), array([482]))\n",
      "apnea-ecg-database-1.0.0/c05\n",
      "(array(['A', 'N'], dtype='<U1'), array([  3, 463]))\n",
      "apnea-ecg-database-1.0.0/x01\n",
      "(array(['A', 'N'], dtype='<U1'), array([375, 148]))\n",
      "apnea-ecg-database-1.0.0/x02\n",
      "(array(['A', 'N'], dtype='<U1'), array([209, 260]))\n",
      "apnea-ecg-database-1.0.0/x03\n",
      "(array(['A', 'N'], dtype='<U1'), array([ 12, 453]))\n",
      "apnea-ecg-database-1.0.0/x04\n",
      "(array(['N'], dtype='<U1'), array([482]))\n",
      "apnea-ecg-database-1.0.0/x05\n",
      "(array(['A', 'N'], dtype='<U1'), array([316, 189]))\n",
      "apnea-ecg-database-1.0.0/x06\n",
      "(array(['N'], dtype='<U1'), array([450]))\n",
      "apnea-ecg-database-1.0.0/x07\n",
      "(array(['A', 'N'], dtype='<U1'), array([240, 269]))\n"
     ]
    }
   ],
   "source": [
    "import os\n",
    "dataset_path = \"apnea-ecg-database-1.0.0\"\n",
    "train_file_names = [\"a01\",\"a02\",\"a03\",\"a04\",\"a05\",\"b01\",\"b02\",\"b03\",\"b04\",\"b05\",\"c01\",\"c02\",\"c03\",\"c04\",\"c05\",\"x01\",\"x02\",\"x03\",\"x04\",\"x05\",\"x06\",\"x07\"]\n",
    "\n",
    "# create file path list for dataset\n",
    "train_file_paths = [os.path.join(dataset_path, file_name) for file_name in train_file_names]\n",
    "print(\"===> distribution of annotations across files\")\n",
    "for filename in train_file_paths:\n",
    "  annotation = wfdb.rdann(filename, extension=\"apn\")\n",
    "  # Find out which heading contains the labels\n",
    "  annotation.get_label_fields()\n",
    "  # Count number of Apnea-tagged intervals\n",
    "  annotation.symbol.count(\"A\")\n",
    "  # The readings are labelled normal (N) or atrial premature contraction (A)\n",
    "  # There should be 470 As and 19 Ns for \"a01\"\n",
    "  print(filename)\n",
    "  print(np.unique(annotation.symbol, return_counts=True))"
   ]
  },
  {
   "cell_type": "code",
   "execution_count": 58,
   "metadata": {
    "id": "1HjYNq2FqLs0"
   },
   "outputs": [],
   "source": [
    "# dataset for multiple segments per iteration\n",
    "# in __getitem__, comment src = feature_transform_resize(self.spectrograms[idx]) * 10000 and uncomment src = [feature_transform(self.spectrograms[_idx]) * 10000 for _idx in range(idx,min(idx+5,len(self)-1))]\n",
    "# for no added padding\n",
    "\n",
    "class MultiSpectrogramDataset(Dataset):\n",
    "  def __init__(self, file_paths = [], segment_length = 6000, spectrogram_segment_length = 23, num_segments = 10):\n",
    "    super().__init__()\n",
    "    self.spectrograms = []\n",
    "    self.annotations = []\n",
    "    # add data from multiple files to this dataset\n",
    "    for file_path in file_paths:\n",
    "      signal_length = len(wfdb.rdrecord(file_path).p_signal)\n",
    "      print(signal_length)\n",
    "      signal_segments = [wfdb.rdrecord(file_path, sampfrom = start_index, sampto = min(signal_length, start_index + segment_length))\n",
    "                        for start_index in range(0, signal_length, segment_length)]\n",
    "      filtered_signal_segments = [chebyshev_filter(signal) for signal in signal_segments]\n",
    "      segment_annotations = [v for v in wfdb.rdann(file_path, extension=\"apn\").symbol]\n",
    "      segment_spectrograms = [create_spectrogram(np.array(filtered_signal).flatten())[0]\n",
    "                           for filtered_signal in filtered_signal_segments]\n",
    "      segment_annotations = segment_annotations[:-1]\n",
    "      segment_spectrograms = segment_spectrograms[:len(segment_annotations)]\n",
    "      self.spectrograms.extend(segment_spectrograms)\n",
    "      self.annotations.extend(segment_annotations)\n",
    "      print(f\"number of spectrograms: {len(self.spectrograms)}, number of annotations: {len(self.annotations)}\")\n",
    "  def __getitem__(self, idx):\n",
    "    # src = feature_transform_resize(self.spectrograms[idx]) * 10000\n",
    "    src = [feature_transform(self.spectrograms[_idx]) * 10000 for _idx in range(idx,min(idx+5,len(self)-1))]\n",
    "    src = torch.concat(src,dim=2)\n",
    "    print('src shape after first stack',src.shape)\n",
    "    trg = self.annotations[idx: idx + 5]\n",
    "    for i in range(len(trg)):\n",
    "      if trg[i] == \"N\":\n",
    "        trg[i] = 0\n",
    "      elif trg[i] == \"A\":\n",
    "        trg[i] = 1\n",
    "    return src, trg\n",
    "  def __len__(self):\n",
    "    return len(self.spectrograms)"
   ]
  },
  {
   "cell_type": "code",
   "execution_count": 59,
   "metadata": {
    "colab": {
     "base_uri": "https://localhost:8080/"
    },
    "id": "KkE9hK_yKxat",
    "outputId": "18050011-4fc7-49dc-a01a-125aa5fa6d4a"
   },
   "outputs": [
    {
     "name": "stdout",
     "output_type": "stream",
     "text": [
      "train file names\n",
      "{'c09', 'a15', 'a03', 'a04', 'c05', 'a19', 'c10', 'a07', 'a14', 'c08', 'c02', 'b04', 'b03', 'b01', 'a02', 'c01', 'a10', 'a09', 'c07', 'a08', 'a06', 'a16', 'c03', 'a11', 'b05', 'a01', 'a17', 'a12', 'a18', 'c06', 'c04', 'a13', 'a20', 'a05', 'b02'}\n",
      "35\n",
      "test file names\n",
      "{'x21', 'x20', 'x29', 'x15', 'x18', 'x22', 'x17', 'x02', 'x10', 'x35', 'x04', 'x13', 'x32', 'x08', 'x31', 'x14', 'x24', 'x01', 'x09', 'x28', 'x06', 'x11', 'x27', 'x23', 'x12', 'x19', 'x26', 'x30', 'x05', 'x16', 'x07', 'x03', 'x33', 'x34', 'x25'}\n",
      "35\n"
     ]
    }
   ],
   "source": [
    "def collate_fn(data):\n",
    "  return data\n",
    "dataset_path = \"apnea-ecg-database-1.0.0\"\n",
    "\n",
    "train_file_names = set(sorted([filename[:3]\n",
    "                      for dirname, _, filenames in os.walk(dataset_path)\n",
    "                      for filename in filenames\n",
    "                      if (filename.startswith(\"a\")\n",
    "                      or filename.startswith(\"b\")\n",
    "                      or filename.startswith(\"c\"))\n",
    "                      and len(filename) <= 7\n",
    "                      and \"apn\" in str(filename)]))\n",
    "test_file_names = set(sorted([filename[:3]\n",
    "                      for dirname, _, filenames in os.walk(dataset_path)\n",
    "                      for filename in filenames\n",
    "                      if filename.startswith(\"x\")\n",
    "                      and len(filename) <= 7\n",
    "                      and \"apn\" in str(filename)]))\n",
    "print('train file names')\n",
    "print(train_file_names)\n",
    "print(len(train_file_names))\n",
    "print('test file names')\n",
    "print(test_file_names)\n",
    "print(len(test_file_names))"
   ]
  },
  {
   "cell_type": "markdown",
   "metadata": {},
   "source": [
    "### Create SpectrogramDataset object "
   ]
  },
  {
   "cell_type": "markdown",
   "metadata": {},
   "source": [
    "#### *Might take a while*"
   ]
  },
  {
   "cell_type": "code",
   "execution_count": 60,
   "metadata": {
    "colab": {
     "base_uri": "https://localhost:8080/",
     "height": 1000
    },
    "id": "wWQTOCkWViZh",
    "outputId": "ab101217-5893-45f2-ba1f-c2f83925be4c"
   },
   "outputs": [
    {
     "name": "stdout",
     "output_type": "stream",
     "text": [
      "initialising train dataset for 35 files\n"
     ]
    },
    {
     "name": "stderr",
     "output_type": "stream",
     "text": [
      "/opt/conda/lib/python3.11/site-packages/matplotlib/axes/_axes.py:7947: RuntimeWarning: divide by zero encountered in log10\n",
      "  Z = 10. * np.log10(spec)\n"
     ]
    },
    {
     "name": "stdout",
     "output_type": "stream",
     "text": [
      "number of spectrograms: 468, number of annotations: 468\n"
     ]
    },
    {
     "name": "stderr",
     "output_type": "stream",
     "text": [
      "/opt/conda/lib/python3.11/site-packages/matplotlib/axes/_axes.py:7947: RuntimeWarning: divide by zero encountered in log10\n",
      "  Z = 10. * np.log10(spec)\n"
     ]
    },
    {
     "name": "stdout",
     "output_type": "stream",
     "text": [
      "number of spectrograms: 510, number of annotations: 510\n"
     ]
    },
    {
     "name": "stderr",
     "output_type": "stream",
     "text": [
      "/opt/conda/lib/python3.11/site-packages/matplotlib/axes/_axes.py:7947: RuntimeWarning: divide by zero encountered in log10\n",
      "  Z = 10. * np.log10(spec)\n"
     ]
    },
    {
     "name": "stdout",
     "output_type": "stream",
     "text": [
      "number of spectrograms: 519, number of annotations: 519\n"
     ]
    },
    {
     "name": "stderr",
     "output_type": "stream",
     "text": [
      "/opt/conda/lib/python3.11/site-packages/matplotlib/axes/_axes.py:7947: RuntimeWarning: divide by zero encountered in log10\n",
      "  Z = 10. * np.log10(spec)\n"
     ]
    },
    {
     "name": "stdout",
     "output_type": "stream",
     "text": [
      "number of spectrograms: 492, number of annotations: 492\n",
      "different spectrogram shape at index 491\n",
      "491 (65, 34)\n",
      "number of spectrograms: 466, number of annotations: 466\n"
     ]
    },
    {
     "name": "stderr",
     "output_type": "stream",
     "text": [
      "/opt/conda/lib/python3.11/site-packages/matplotlib/axes/_axes.py:7947: RuntimeWarning: divide by zero encountered in log10\n",
      "  Z = 10. * np.log10(spec)\n"
     ]
    },
    {
     "name": "stdout",
     "output_type": "stream",
     "text": [
      "number of spectrograms: 502, number of annotations: 502\n"
     ]
    },
    {
     "name": "stderr",
     "output_type": "stream",
     "text": [
      "/opt/conda/lib/python3.11/site-packages/matplotlib/axes/_axes.py:7947: RuntimeWarning: divide by zero encountered in log10\n",
      "  Z = 10. * np.log10(spec)\n"
     ]
    },
    {
     "name": "stdout",
     "output_type": "stream",
     "text": [
      "number of spectrograms: 431, number of annotations: 431\n",
      "different spectrogram shape at index 430\n",
      "430 (65, 38)\n",
      "number of spectrograms: 511, number of annotations: 511\n"
     ]
    },
    {
     "name": "stderr",
     "output_type": "stream",
     "text": [
      "/opt/conda/lib/python3.11/site-packages/matplotlib/axes/_axes.py:7947: RuntimeWarning: divide by zero encountered in log10\n",
      "  Z = 10. * np.log10(spec)\n"
     ]
    },
    {
     "name": "stdout",
     "output_type": "stream",
     "text": [
      "number of spectrograms: 509, number of annotations: 509\n"
     ]
    },
    {
     "name": "stderr",
     "output_type": "stream",
     "text": [
      "/opt/conda/lib/python3.11/site-packages/matplotlib/axes/_axes.py:7947: RuntimeWarning: divide by zero encountered in log10\n",
      "  Z = 10. * np.log10(spec)\n"
     ]
    },
    {
     "name": "stdout",
     "output_type": "stream",
     "text": [
      "number of spectrograms: 513, number of annotations: 513\n"
     ]
    },
    {
     "name": "stderr",
     "output_type": "stream",
     "text": [
      "/opt/conda/lib/python3.11/site-packages/matplotlib/axes/_axes.py:7947: RuntimeWarning: divide by zero encountered in log10\n",
      "  Z = 10. * np.log10(spec)\n"
     ]
    },
    {
     "name": "stdout",
     "output_type": "stream",
     "text": [
      "number of spectrograms: 502, number of annotations: 502\n"
     ]
    },
    {
     "name": "stderr",
     "output_type": "stream",
     "text": [
      "/opt/conda/lib/python3.11/site-packages/matplotlib/axes/_axes.py:7947: RuntimeWarning: divide by zero encountered in log10\n",
      "  Z = 10. * np.log10(spec)\n"
     ]
    },
    {
     "name": "stdout",
     "output_type": "stream",
     "text": [
      "number of spectrograms: 429, number of annotations: 429\n",
      "different spectrogram shape at index 428\n",
      "428 (65, 38)\n",
      "number of spectrograms: 441, number of annotations: 441\n",
      "number of spectrograms: 487, number of annotations: 487\n"
     ]
    },
    {
     "name": "stderr",
     "output_type": "stream",
     "text": [
      "/opt/conda/lib/python3.11/site-packages/matplotlib/axes/_axes.py:7947: RuntimeWarning: divide by zero encountered in log10\n",
      "  Z = 10. * np.log10(spec)\n"
     ]
    },
    {
     "name": "stdout",
     "output_type": "stream",
     "text": [
      "number of spectrograms: 528, number of annotations: 528\n",
      "different spectrogram shape at index 527\n",
      "527 (65, 31)\n"
     ]
    },
    {
     "name": "stderr",
     "output_type": "stream",
     "text": [
      "/opt/conda/lib/python3.11/site-packages/matplotlib/axes/_axes.py:7947: RuntimeWarning: divide by zero encountered in log10\n",
      "  Z = 10. * np.log10(spec)\n"
     ]
    },
    {
     "name": "stdout",
     "output_type": "stream",
     "text": [
      "number of spectrograms: 484, number of annotations: 484\n",
      "number of spectrograms: 517, number of annotations: 517\n"
     ]
    },
    {
     "name": "stderr",
     "output_type": "stream",
     "text": [
      "/opt/conda/lib/python3.11/site-packages/matplotlib/axes/_axes.py:7947: RuntimeWarning: divide by zero encountered in log10\n",
      "  Z = 10. * np.log10(spec)\n"
     ]
    },
    {
     "name": "stdout",
     "output_type": "stream",
     "text": [
      "number of spectrograms: 495, number of annotations: 495\n",
      "different spectrogram shape at index 494\n",
      "494 (65, 31)\n"
     ]
    },
    {
     "name": "stderr",
     "output_type": "stream",
     "text": [
      "/opt/conda/lib/python3.11/site-packages/matplotlib/axes/_axes.py:7947: RuntimeWarning: divide by zero encountered in log10\n",
      "  Z = 10. * np.log10(spec)\n"
     ]
    },
    {
     "name": "stdout",
     "output_type": "stream",
     "text": [
      "number of spectrograms: 429, number of annotations: 429\n",
      "different spectrogram shape at index 428\n",
      "428 (65, 40)\n",
      "number of spectrograms: 501, number of annotations: 501\n"
     ]
    },
    {
     "name": "stderr",
     "output_type": "stream",
     "text": [
      "/opt/conda/lib/python3.11/site-packages/matplotlib/axes/_axes.py:7947: RuntimeWarning: divide by zero encountered in log10\n",
      "  Z = 10. * np.log10(spec)\n"
     ]
    },
    {
     "name": "stdout",
     "output_type": "stream",
     "text": [
      "number of spectrograms: 510, number of annotations: 510\n",
      "different spectrogram shape at index 509\n",
      "509 (65, 30)\n"
     ]
    },
    {
     "name": "stderr",
     "output_type": "stream",
     "text": [
      "/opt/conda/lib/python3.11/site-packages/matplotlib/axes/_axes.py:7947: RuntimeWarning: divide by zero encountered in log10\n",
      "  Z = 10. * np.log10(spec)\n"
     ]
    },
    {
     "name": "stdout",
     "output_type": "stream",
     "text": [
      "number of spectrograms: 482, number of annotations: 482\n"
     ]
    },
    {
     "name": "stderr",
     "output_type": "stream",
     "text": [
      "/opt/conda/lib/python3.11/site-packages/matplotlib/axes/_axes.py:7947: RuntimeWarning: divide by zero encountered in log10\n",
      "  Z = 10. * np.log10(spec)\n"
     ]
    },
    {
     "name": "stdout",
     "output_type": "stream",
     "text": [
      "number of spectrograms: 454, number of annotations: 454\n",
      "number of spectrograms: 466, number of annotations: 466\n",
      "different spectrogram shape at index 465\n",
      "465 (65, 30)\n"
     ]
    },
    {
     "name": "stderr",
     "output_type": "stream",
     "text": [
      "/opt/conda/lib/python3.11/site-packages/matplotlib/axes/_axes.py:7947: RuntimeWarning: divide by zero encountered in log10\n",
      "  Z = 10. * np.log10(spec)\n"
     ]
    },
    {
     "name": "stdout",
     "output_type": "stream",
     "text": [
      "number of spectrograms: 433, number of annotations: 433\n"
     ]
    },
    {
     "name": "stderr",
     "output_type": "stream",
     "text": [
      "/opt/conda/lib/python3.11/site-packages/matplotlib/axes/_axes.py:7947: RuntimeWarning: divide by zero encountered in log10\n",
      "  Z = 10. * np.log10(spec)\n"
     ]
    },
    {
     "name": "stdout",
     "output_type": "stream",
     "text": [
      "number of spectrograms: 489, number of annotations: 489\n",
      "different spectrogram shape at index 488\n",
      "488 (65, 34)\n"
     ]
    },
    {
     "name": "stderr",
     "output_type": "stream",
     "text": [
      "/opt/conda/lib/python3.11/site-packages/matplotlib/axes/_axes.py:7947: RuntimeWarning: divide by zero encountered in log10\n",
      "  Z = 10. * np.log10(spec)\n"
     ]
    },
    {
     "name": "stdout",
     "output_type": "stream",
     "text": [
      "number of spectrograms: 485, number of annotations: 485\n",
      "different spectrogram shape at index 484\n",
      "484 (65, 40)\n"
     ]
    },
    {
     "name": "stderr",
     "output_type": "stream",
     "text": [
      "/opt/conda/lib/python3.11/site-packages/matplotlib/axes/_axes.py:7947: RuntimeWarning: divide by zero encountered in log10\n",
      "  Z = 10. * np.log10(spec)\n"
     ]
    },
    {
     "name": "stdout",
     "output_type": "stream",
     "text": [
      "number of spectrograms: 577, number of annotations: 577\n"
     ]
    },
    {
     "name": "stderr",
     "output_type": "stream",
     "text": [
      "/opt/conda/lib/python3.11/site-packages/matplotlib/axes/_axes.py:7947: RuntimeWarning: divide by zero encountered in log10\n",
      "  Z = 10. * np.log10(spec)\n"
     ]
    },
    {
     "name": "stdout",
     "output_type": "stream",
     "text": [
      "number of spectrograms: 489, number of annotations: 489\n",
      "different spectrogram shape at index 488\n",
      "488 (65, 34)\n"
     ]
    },
    {
     "name": "stderr",
     "output_type": "stream",
     "text": [
      "/opt/conda/lib/python3.11/site-packages/matplotlib/axes/_axes.py:7947: RuntimeWarning: divide by zero encountered in log10\n",
      "  Z = 10. * np.log10(spec)\n"
     ]
    },
    {
     "name": "stdout",
     "output_type": "stream",
     "text": [
      "number of spectrograms: 468, number of annotations: 468\n"
     ]
    },
    {
     "name": "stderr",
     "output_type": "stream",
     "text": [
      "/opt/conda/lib/python3.11/site-packages/matplotlib/axes/_axes.py:7947: RuntimeWarning: divide by zero encountered in log10\n",
      "  Z = 10. * np.log10(spec)\n"
     ]
    },
    {
     "name": "stdout",
     "output_type": "stream",
     "text": [
      "number of spectrograms: 482, number of annotations: 482\n",
      "number of spectrograms: 495, number of annotations: 495\n",
      "number of spectrograms: 510, number of annotations: 510\n"
     ]
    },
    {
     "name": "stderr",
     "output_type": "stream",
     "text": [
      "/opt/conda/lib/python3.11/site-packages/matplotlib/axes/_axes.py:7947: RuntimeWarning: divide by zero encountered in log10\n",
      "  Z = 10. * np.log10(spec)\n"
     ]
    },
    {
     "name": "stdout",
     "output_type": "stream",
     "text": [
      "number of spectrograms: 454, number of annotations: 454\n"
     ]
    },
    {
     "name": "stderr",
     "output_type": "stream",
     "text": [
      "/opt/conda/lib/python3.11/site-packages/matplotlib/axes/_axes.py:7947: RuntimeWarning: divide by zero encountered in log10\n",
      "  Z = 10. * np.log10(spec)\n"
     ]
    },
    {
     "name": "stdout",
     "output_type": "stream",
     "text": [
      "number of spectrograms: 517, number of annotations: 517\n"
     ]
    },
    {
     "data": {
      "image/png": "[encoded data removed]",
      "text/plain": [
       "<Figure size 640x480 with 1 Axes>"
      ]
     },
     "metadata": {},
     "output_type": "display_data"
    }
   ],
   "source": [
    "print(f'initialising train dataset for {len(train_file_names)} files')\n",
    "train_file_paths = [os.path.join(dataset_path, file_name) for file_name in train_file_names]\n",
    "train_dataset = SpectrogramDataset(train_file_paths)\n"
   ]
  },
  {
   "cell_type": "code",
   "execution_count": 61,
   "metadata": {
    "colab": {
     "base_uri": "https://localhost:8080/",
     "height": 1000
    },
    "id": "YmCTc-hYCW12",
    "outputId": "316323ef-2091-4cd6-b6a9-3720c577f1cd"
   },
   "outputs": [
    {
     "name": "stdout",
     "output_type": "stream",
     "text": [
      "initialising train dataset for 35 files\n",
      "number of spectrograms: 510, number of annotations: 510\n",
      "different spectrogram shape at index 509\n",
      "509 (65, 26)\n"
     ]
    },
    {
     "name": "stderr",
     "output_type": "stream",
     "text": [
      "/opt/conda/lib/python3.11/site-packages/matplotlib/axes/_axes.py:7947: RuntimeWarning: divide by zero encountered in log10\n",
      "  Z = 10. * np.log10(spec)\n"
     ]
    },
    {
     "name": "stdout",
     "output_type": "stream",
     "text": [
      "number of spectrograms: 513, number of annotations: 513\n"
     ]
    },
    {
     "name": "stderr",
     "output_type": "stream",
     "text": [
      "/opt/conda/lib/python3.11/site-packages/matplotlib/axes/_axes.py:7947: RuntimeWarning: divide by zero encountered in log10\n",
      "  Z = 10. * np.log10(spec)\n"
     ]
    },
    {
     "name": "stdout",
     "output_type": "stream",
     "text": [
      "number of spectrograms: 470, number of annotations: 470\n"
     ]
    },
    {
     "name": "stderr",
     "output_type": "stream",
     "text": [
      "/opt/conda/lib/python3.11/site-packages/matplotlib/axes/_axes.py:7947: RuntimeWarning: divide by zero encountered in log10\n",
      "  Z = 10. * np.log10(spec)\n"
     ]
    },
    {
     "name": "stdout",
     "output_type": "stream",
     "text": [
      "number of spectrograms: 498, number of annotations: 498\n",
      "different spectrogram shape at index 497\n",
      "497 (65, 29)\n"
     ]
    },
    {
     "name": "stderr",
     "output_type": "stream",
     "text": [
      "/opt/conda/lib/python3.11/site-packages/matplotlib/axes/_axes.py:7947: RuntimeWarning: divide by zero encountered in log10\n",
      "  Z = 10. * np.log10(spec)\n"
     ]
    },
    {
     "name": "stdout",
     "output_type": "stream",
     "text": [
      "number of spectrograms: 459, number of annotations: 459\n",
      "different spectrogram shape at index 458\n",
      "458 (65, 37)\n"
     ]
    },
    {
     "name": "stderr",
     "output_type": "stream",
     "text": [
      "/opt/conda/lib/python3.11/site-packages/matplotlib/axes/_axes.py:7947: RuntimeWarning: divide by zero encountered in log10\n",
      "  Z = 10. * np.log10(spec)\n"
     ]
    },
    {
     "name": "stdout",
     "output_type": "stream",
     "text": [
      "number of spectrograms: 482, number of annotations: 482\n"
     ]
    },
    {
     "name": "stderr",
     "output_type": "stream",
     "text": [
      "/opt/conda/lib/python3.11/site-packages/matplotlib/axes/_axes.py:7947: RuntimeWarning: divide by zero encountered in log10\n",
      "  Z = 10. * np.log10(spec)\n"
     ]
    },
    {
     "name": "stdout",
     "output_type": "stream",
     "text": [
      "number of spectrograms: 400, number of annotations: 400\n",
      "different spectrogram shape at index 399\n",
      "399 (65, 31)\n"
     ]
    },
    {
     "name": "stderr",
     "output_type": "stream",
     "text": [
      "/opt/conda/lib/python3.11/site-packages/matplotlib/axes/_axes.py:7947: RuntimeWarning: divide by zero encountered in log10\n",
      "  Z = 10. * np.log10(spec)\n"
     ]
    },
    {
     "name": "stdout",
     "output_type": "stream",
     "text": [
      "number of spectrograms: 469, number of annotations: 469\n"
     ]
    },
    {
     "name": "stderr",
     "output_type": "stream",
     "text": [
      "/opt/conda/lib/python3.11/site-packages/matplotlib/axes/_axes.py:7947: RuntimeWarning: divide by zero encountered in log10\n",
      "  Z = 10. * np.log10(spec)\n"
     ]
    },
    {
     "name": "stdout",
     "output_type": "stream",
     "text": [
      "number of spectrograms: 510, number of annotations: 510\n",
      "different spectrogram shape at index 509\n",
      "509 (65, 26)\n"
     ]
    },
    {
     "name": "stderr",
     "output_type": "stream",
     "text": [
      "/opt/conda/lib/python3.11/site-packages/matplotlib/axes/_axes.py:7947: RuntimeWarning: divide by zero encountered in log10\n",
      "  Z = 10. * np.log10(spec)\n"
     ]
    },
    {
     "name": "stdout",
     "output_type": "stream",
     "text": [
      "number of spectrograms: 483, number of annotations: 483\n"
     ]
    },
    {
     "name": "stderr",
     "output_type": "stream",
     "text": [
      "/opt/conda/lib/python3.11/site-packages/matplotlib/axes/_axes.py:7947: RuntimeWarning: divide by zero encountered in log10\n",
      "  Z = 10. * np.log10(spec)\n"
     ]
    },
    {
     "name": "stdout",
     "output_type": "stream",
     "text": [
      "number of spectrograms: 482, number of annotations: 482\n",
      "different spectrogram shape at index 481\n",
      "481 (65, 37)\n"
     ]
    },
    {
     "name": "stderr",
     "output_type": "stream",
     "text": [
      "/opt/conda/lib/python3.11/site-packages/matplotlib/axes/_axes.py:7947: RuntimeWarning: divide by zero encountered in log10\n",
      "  Z = 10. * np.log10(spec)\n"
     ]
    },
    {
     "name": "stdout",
     "output_type": "stream",
     "text": [
      "number of spectrograms: 506, number of annotations: 506\n",
      "different spectrogram shape at index 505\n",
      "505 (65, 29)\n"
     ]
    },
    {
     "name": "stderr",
     "output_type": "stream",
     "text": [
      "/opt/conda/lib/python3.11/site-packages/matplotlib/axes/_axes.py:7947: RuntimeWarning: divide by zero encountered in log10\n",
      "  Z = 10. * np.log10(spec)\n"
     ]
    },
    {
     "name": "stdout",
     "output_type": "stream",
     "text": [
      "number of spectrograms: 538, number of annotations: 538\n",
      "number of spectrograms: 517, number of annotations: 517\n"
     ]
    },
    {
     "name": "stderr",
     "output_type": "stream",
     "text": [
      "/opt/conda/lib/python3.11/site-packages/matplotlib/axes/_axes.py:7947: RuntimeWarning: divide by zero encountered in log10\n",
      "  Z = 10. * np.log10(spec)\n"
     ]
    },
    {
     "name": "stdout",
     "output_type": "stream",
     "text": [
      "number of spectrograms: 557, number of annotations: 557\n"
     ]
    },
    {
     "name": "stderr",
     "output_type": "stream",
     "text": [
      "/opt/conda/lib/python3.11/site-packages/matplotlib/axes/_axes.py:7947: RuntimeWarning: divide by zero encountered in log10\n",
      "  Z = 10. * np.log10(spec)\n"
     ]
    },
    {
     "name": "stdout",
     "output_type": "stream",
     "text": [
      "number of spectrograms: 490, number of annotations: 490\n"
     ]
    },
    {
     "name": "stderr",
     "output_type": "stream",
     "text": [
      "/opt/conda/lib/python3.11/site-packages/matplotlib/axes/_axes.py:7947: RuntimeWarning: divide by zero encountered in log10\n",
      "  Z = 10. * np.log10(spec)\n"
     ]
    },
    {
     "name": "stdout",
     "output_type": "stream",
     "text": [
      "number of spectrograms: 429, number of annotations: 429\n",
      "number of spectrograms: 523, number of annotations: 523\n",
      "different spectrogram shape at index 522\n",
      "522 (65, 37)\n"
     ]
    },
    {
     "name": "stderr",
     "output_type": "stream",
     "text": [
      "/opt/conda/lib/python3.11/site-packages/matplotlib/axes/_axes.py:7947: RuntimeWarning: divide by zero encountered in log10\n",
      "  Z = 10. * np.log10(spec)\n"
     ]
    },
    {
     "name": "stdout",
     "output_type": "stream",
     "text": [
      "number of spectrograms: 508, number of annotations: 508\n",
      "different spectrogram shape at index 507\n",
      "507 (65, 37)\n"
     ]
    },
    {
     "name": "stderr",
     "output_type": "stream",
     "text": [
      "/opt/conda/lib/python3.11/site-packages/matplotlib/axes/_axes.py:7947: RuntimeWarning: divide by zero encountered in log10\n",
      "  Z = 10. * np.log10(spec)\n"
     ]
    },
    {
     "name": "stdout",
     "output_type": "stream",
     "text": [
      "number of spectrograms: 495, number of annotations: 495\n"
     ]
    },
    {
     "name": "stderr",
     "output_type": "stream",
     "text": [
      "/opt/conda/lib/python3.11/site-packages/matplotlib/axes/_axes.py:7947: RuntimeWarning: divide by zero encountered in log10\n",
      "  Z = 10. * np.log10(spec)\n"
     ]
    },
    {
     "name": "stdout",
     "output_type": "stream",
     "text": [
      "number of spectrograms: 450, number of annotations: 450\n"
     ]
    },
    {
     "name": "stderr",
     "output_type": "stream",
     "text": [
      "/opt/conda/lib/python3.11/site-packages/matplotlib/axes/_axes.py:7947: RuntimeWarning: divide by zero encountered in log10\n",
      "  Z = 10. * np.log10(spec)\n"
     ]
    },
    {
     "name": "stdout",
     "output_type": "stream",
     "text": [
      "number of spectrograms: 457, number of annotations: 457\n",
      "different spectrogram shape at index 456\n",
      "456 (65, 38)\n",
      "number of spectrograms: 498, number of annotations: 498\n"
     ]
    },
    {
     "name": "stderr",
     "output_type": "stream",
     "text": [
      "/opt/conda/lib/python3.11/site-packages/matplotlib/axes/_axes.py:7947: RuntimeWarning: divide by zero encountered in log10\n",
      "  Z = 10. * np.log10(spec)\n"
     ]
    },
    {
     "name": "stdout",
     "output_type": "stream",
     "text": [
      "number of spectrograms: 527, number of annotations: 527\n"
     ]
    },
    {
     "name": "stderr",
     "output_type": "stream",
     "text": [
      "/opt/conda/lib/python3.11/site-packages/matplotlib/axes/_axes.py:7947: RuntimeWarning: divide by zero encountered in log10\n",
      "  Z = 10. * np.log10(spec)\n"
     ]
    },
    {
     "name": "stdout",
     "output_type": "stream",
     "text": [
      "number of spectrograms: 527, number of annotations: 527\n"
     ]
    },
    {
     "name": "stderr",
     "output_type": "stream",
     "text": [
      "/opt/conda/lib/python3.11/site-packages/matplotlib/axes/_axes.py:7947: RuntimeWarning: divide by zero encountered in log10\n",
      "  Z = 10. * np.log10(spec)\n"
     ]
    },
    {
     "name": "stdout",
     "output_type": "stream",
     "text": [
      "number of spectrograms: 487, number of annotations: 487\n",
      "different spectrogram shape at index 486\n",
      "486 (65, 28)\n"
     ]
    },
    {
     "name": "stderr",
     "output_type": "stream",
     "text": [
      "/opt/conda/lib/python3.11/site-packages/matplotlib/axes/_axes.py:7947: RuntimeWarning: divide by zero encountered in log10\n",
      "  Z = 10. * np.log10(spec)\n"
     ]
    },
    {
     "name": "stdout",
     "output_type": "stream",
     "text": [
      "number of spectrograms: 520, number of annotations: 520\n",
      "different spectrogram shape at index 519\n",
      "519 (65, 38)\n"
     ]
    },
    {
     "name": "stderr",
     "output_type": "stream",
     "text": [
      "/opt/conda/lib/python3.11/site-packages/matplotlib/axes/_axes.py:7947: RuntimeWarning: divide by zero encountered in log10\n",
      "  Z = 10. * np.log10(spec)\n"
     ]
    },
    {
     "name": "stdout",
     "output_type": "stream",
     "text": [
      "number of spectrograms: 511, number of annotations: 511\n",
      "number of spectrograms: 505, number of annotations: 505\n",
      "number of spectrograms: 515, number of annotations: 515\n",
      "different spectrogram shape at index 514\n",
      "514 (65, 37)\n"
     ]
    },
    {
     "name": "stderr",
     "output_type": "stream",
     "text": [
      "/opt/conda/lib/python3.11/site-packages/matplotlib/axes/_axes.py:7947: RuntimeWarning: divide by zero encountered in log10\n",
      "  Z = 10. * np.log10(spec)\n"
     ]
    },
    {
     "name": "stdout",
     "output_type": "stream",
     "text": [
      "number of spectrograms: 509, number of annotations: 509\n",
      "number of spectrograms: 465, number of annotations: 465\n",
      "number of spectrograms: 473, number of annotations: 473\n",
      "number of spectrograms: 475, number of annotations: 475\n",
      "number of spectrograms: 510, number of annotations: 510\n"
     ]
    },
    {
     "data": {
      "image/png": "[encoded data removed]",
      "text/plain": [
       "<Figure size 640x480 with 1 Axes>"
      ]
     },
     "metadata": {},
     "output_type": "display_data"
    }
   ],
   "source": [
    "print(f'initialising train dataset for {len(test_file_names)} files')\n",
    "test_file_paths = [os.path.join(dataset_path, file_name) for file_name in test_file_names]\n",
    "test_dataset = SpectrogramDataset(test_file_paths)\n"
   ]
  },
  {
   "cell_type": "code",
   "execution_count": 77,
   "metadata": {
    "id": "KYYdEKWEtjmu"
   },
   "outputs": [],
   "source": [
    "train_batch_size = 1\n",
    "train_dl = DataLoader(\n",
    "    train_dataset,\n",
    "    batch_size = train_batch_size,\n",
    "    shuffle = True,\n",
    "    collate_fn = collate_fn,\n",
    "    pin_memory = True\n",
    ")\n",
    "test_dl = DataLoader(\n",
    "    test_dataset,\n",
    "    batch_size = train_batch_size,\n",
    "    shuffle = False,\n",
    "    collate_fn = collate_fn,\n",
    "    pin_memory = True\n",
    ")"
   ]
  },
  {
   "cell_type": "markdown",
   "metadata": {
    "id": "mYgnBg8M4Tm9"
   },
   "source": []
  },
  {
   "cell_type": "markdown",
   "metadata": {},
   "source": [
    "### Creating LSTM architecture"
   ]
  },
  {
   "cell_type": "code",
   "execution_count": 78,
   "metadata": {
    "id": "sPr2gfO_IXEt"
   },
   "outputs": [],
   "source": [
    "class LSTM(nn.Module):\n",
    "  def __init__(self, input_dim = 32 * 7 * 7, hidden_dim = 512, num_layers = 1, dropout = 0.4):\n",
    "    super().__init__()\n",
    "    self.rnn = nn.LSTM(input_size = input_dim, hidden_size = hidden_dim, num_layers = num_layers, batch_first = False)\n",
    "    self.dropout = nn.Dropout(dropout)\n",
    "  def forward(self,src):\n",
    "    src = self.rnn(src)\n",
    "    return self.dropout(src)"
   ]
  },
  {
   "cell_type": "markdown",
   "metadata": {
    "id": "t20qiPuvPBsR"
   },
   "source": [
    "### Simpler models"
   ]
  },
  {
   "cell_type": "code",
   "execution_count": 79,
   "metadata": {
    "colab": {
     "base_uri": "https://localhost:8080/"
    },
    "id": "nEgnH_VVWswf",
    "outputId": "df0e911c-8792-4afc-daa8-4057c5a8de02"
   },
   "outputs": [
    {
     "name": "stdout",
     "output_type": "stream",
     "text": [
      "Requirement already satisfied: einops in /opt/conda/lib/python3.11/site-packages (0.7.0)\n"
     ]
    }
   ],
   "source": [
    "!pip install einops"
   ]
  },
  {
   "cell_type": "code",
   "execution_count": 80,
   "metadata": {
    "id": "9OyDlIzbRHGl"
   },
   "outputs": [],
   "source": [
    "from einops.layers.torch import Rearrange"
   ]
  },
  {
   "cell_type": "code",
   "execution_count": 81,
   "metadata": {
    "id": "Uj_w5phtDwgz"
   },
   "outputs": [],
   "source": [
    "class PureLSTM(nn.Module):\n",
    "  def __init__(self, dropout = 0.2):\n",
    "    super().__init__()\n",
    "    self.rnn = nn.LSTM(100, 256, 2, dropout = dropout)\n",
    "    self.bn = nn.BatchNorm1d(1)\n",
    "    self.relu = nn.LeakyReLU(0.05)\n",
    "    self.classifier = nn.Sequential(\n",
    "      nn.Linear(128, 1),\n",
    "      nn.Sigmoid()\n",
    "    )\n",
    "  def forward(self, src):\n",
    "    outputs, (hidden, cell) = self.rnn(src)\n",
    "    outputs = self.relu(outputs)\n",
    "    return self.classifier(outputs[-1])"
   ]
  },
  {
   "cell_type": "markdown",
   "metadata": {
    "id": "Rnq4y8f1PFou"
   },
   "source": [
    "### Instantiate LSTM model for training"
   ]
  },
  {
   "cell_type": "code",
   "execution_count": 82,
   "metadata": {
    "id": "-L_8PUXhsW4f"
   },
   "outputs": [],
   "source": [
    "device = torch.device(\"cuda\" if torch.cuda.is_available() else \"cpu\")\n",
    "model = PureLSTM(0.4)\n",
    "def init_weights(m):\n",
    "    for _, param in m.named_parameters():\n",
    "        nn.init.uniform_(param.data, -0.08, 0.08)\n",
    "model.apply(init_weights)\n",
    "model.to(device)\n",
    "criterion = nn.BCELoss()\n",
    "optimizer = torch.optim.Adam(model.parameters())"
   ]
  },
  {
   "cell_type": "code",
   "execution_count": 83,
   "metadata": {
    "id": "S_d-4oHN7s6J"
   },
   "outputs": [],
   "source": [
    "# %env CUBLAS_WORKSPACE_CONFIG=:16:8"
   ]
  },
  {
   "cell_type": "markdown",
   "metadata": {},
   "source": [
    "### Defining accuracy, precision and recall scores"
   ]
  },
  {
   "cell_type": "code",
   "execution_count": 84,
   "metadata": {
    "id": "3bTSiqYv0UqT"
   },
   "outputs": [],
   "source": [
    "def get_accuracy(outputs,target):\n",
    "    correct = 0\n",
    "    for output, target in zip(outputs, target):\n",
    "        if output > 0.5:\n",
    "          output = 1.0\n",
    "        else:\n",
    "          output = 0.0\n",
    "        if output == target:\n",
    "            correct += 1\n",
    "    return correct / len(outputs)\n",
    "def get_precision(outputs, target):\n",
    "    TP = 0\n",
    "    FP = 0\n",
    "    for output, target in zip(outputs, target):\n",
    "\n",
    "      if output > 0.5:\n",
    "        output = 1.0\n",
    "      else:\n",
    "        output = 0.0\n",
    "      if output == 1 and target == 1:\n",
    "        TP += 1\n",
    "      elif output == 1 and target == 0:\n",
    "        FP += 1\n",
    "    if TP + FP == 0:\n",
    "      return \"NA\"\n",
    "    return TP/(TP+FP)\n",
    "def get_recall(outputs,target):\n",
    "    TP = 0\n",
    "    FN = 0\n",
    "    for output, target in zip(outputs, target):\n",
    "      if output > 0.5:\n",
    "        output = 1.0\n",
    "      else:\n",
    "        output = 0.0\n",
    "      if output == 1 and target == 1:\n",
    "        TP += 1\n",
    "      elif output == 0 and target == 1:\n",
    "        FN += 1\n",
    "    if TP + FN == 0:\n",
    "      return \"NA\"\n",
    "    return TP/(TP+FN)"
   ]
  },
  {
   "cell_type": "markdown",
   "metadata": {},
   "source": [
    "### Defining LSTM training function"
   ]
  },
  {
   "cell_type": "code",
   "execution_count": 85,
   "metadata": {
    "id": "HovDDKFbkuOk"
   },
   "outputs": [],
   "source": [
    "def train_PureLSTM(model, train_dl, print_interval = 5000):\n",
    "  current_loss = 0\n",
    "  current_accuracy = 0\n",
    "  current_precision = 0\n",
    "  current_recall = 0\n",
    "  outputs_ls = []\n",
    "  trgs_ls = []\n",
    "  model.train()\n",
    "  epoch_loss = 0\n",
    "  epoch_output_ls = []\n",
    "  epoch_trg_ls = []\n",
    "  for i,data in enumerate(train_dl):\n",
    "    optimizer.zero_grad()\n",
    "    src = [_data[0] for _data in data]\n",
    "    trg = [_data[1] for _data in data]\n",
    "    src = torch.stack(src)\n",
    "    b,c,h,w = src.shape\n",
    "    src = src.reshape(w,b,c * h)\n",
    "    src = src.to(device)\n",
    "    trg = torch.tensor(trg)\n",
    "    trg = trg.to(device)\n",
    "    outputs = model(src)\n",
    "    outputs = outputs.transpose(0,1)\n",
    "    trg = trg.transpose(0,1)\n",
    "    loss = criterion(outputs.float(),trg.float())\n",
    "    current_loss += loss.item()\n",
    "    epoch_loss += loss.item()\n",
    "    loss.backward()\n",
    "    optimizer.step()\n",
    "    outputs,trg = outputs.view(-1),trg.view(-1)\n",
    "    epoch_output_ls.extend(outputs.tolist())\n",
    "    epoch_trg_ls.extend(trg.tolist())\n",
    "    outputs_ls.extend(outputs.tolist())\n",
    "    trgs_ls.extend(trg.tolist())\n",
    "    if i % print_interval == 0 and i > 0:\n",
    "      current_accuracy = get_accuracy(outputs_ls, trgs_ls)\n",
    "      precision = get_precision(outputs_ls, trgs_ls)\n",
    "      recall = get_recall(outputs_ls, trgs_ls)\n",
    "      current_precision = precision\n",
    "      current_recall = recall\n",
    "      print('iter',i * train_batch_size)\n",
    "      print('outputs')\n",
    "      print(outputs.tolist())\n",
    "      print('trg')\n",
    "      print(trg.tolist())\n",
    "      print(f'avg accuracy over {print_interval} batches',current_accuracy)\n",
    "      print(f'avg precision over {print_interval} batches',current_precision)\n",
    "      print(f'avg recall over {print_interval} batches',current_recall)\n",
    "      print(f'avg loss over {print_interval} batches',current_loss/print_interval)\n",
    "      outputs_ls = []\n",
    "      trgs_ls = []\n",
    "      current_loss = 0\n",
    "      current_accuracy = 0\n",
    "      current_precision = 0\n",
    "      current_recall = 0\n",
    "  epoch_loss = epoch_loss/len(train_dl)\n",
    "  epoch_accuracy = get_accuracy(epoch_output_ls,epoch_trg_ls)\n",
    "  epoch_precision = get_precision(epoch_output_ls, epoch_trg_ls)\n",
    "  epoch_recall = get_recall(epoch_output_ls, epoch_trg_ls)\n",
    "  return {\n",
    "      \"epoch_loss\":epoch_loss,\n",
    "      \"epoch_accuracy\":epoch_accuracy,\n",
    "      \"epoch_precision\":epoch_precision,\n",
    "      \"epoch_recall\":epoch_recall\n",
    "  }"
   ]
  },
  {
   "cell_type": "markdown",
   "metadata": {},
   "source": [
    "### Defining LSTM evaluation function"
   ]
  },
  {
   "cell_type": "code",
   "execution_count": 86,
   "metadata": {
    "id": "sy18t1Svk3X_"
   },
   "outputs": [],
   "source": [
    "def evaluate_PureLSTM(model, test_dl, print_interval = 5000):\n",
    "  div = 1000\n",
    "  current_loss = 0\n",
    "  current_accuracy = 0\n",
    "  current_precision = 0\n",
    "  current_recall = 0\n",
    "  outputs_ls = []\n",
    "  trgs_ls = []\n",
    "  epoch_loss = 0\n",
    "  epoch_output_ls = []\n",
    "  epoch_trg_ls = []\n",
    "  model.eval()\n",
    "  with torch.no_grad():\n",
    "    for i,data in enumerate(test_dl):\n",
    "      src = [_data[0] for _data in data]\n",
    "      trg = [_data[1] for _data in data]\n",
    "      src = torch.stack(src)\n",
    "      b,c,h,w = src.shape\n",
    "      src = src.reshape((w, b, h))\n",
    "      src = src.to(device)\n",
    "      trg = torch.tensor(trg)\n",
    "      trg = trg.to(device)\n",
    "      # src = src.reshape(w,b,h)\n",
    "      outputs = model(src)\n",
    "      outputs = outputs.transpose(0,1)\n",
    "      trg = trg.transpose(0,1)\n",
    "      loss = criterion(outputs.float(),trg.float())\n",
    "      current_loss += loss.item()\n",
    "      epoch_loss += loss.item()\n",
    "      epoch_output_ls.append(outputs[0])\n",
    "      epoch_trg_ls.append(trg[0])\n",
    "      outputs_ls.append(outputs[0])\n",
    "      trgs_ls.append(trg[0])\n",
    "      if i % print_interval == 0:\n",
    "        current_accuracy += get_accuracy(outputs_ls, trgs_ls)\n",
    "        precision = get_precision(outputs_ls, trgs_ls)\n",
    "        recall = get_recall(outputs_ls, trgs_ls)\n",
    "        current_precision = precision\n",
    "        current_recall = recall\n",
    "        print('iter',i * test_batch_size)\n",
    "        print(f'avg accuracy over {print_interval} batches',current_accuracy)\n",
    "        print(f'avg precision over {print_interval} batches',current_precision)\n",
    "        print(f'avg recall over {print_interval} batches',current_recall)\n",
    "        print(f'avg loss over {print_interval} batches',current_loss/print_interval)\n",
    "        outputs_ls = []\n",
    "        trgs_ls = []\n",
    "        current_loss = 0\n",
    "        current_accuracy = 0\n",
    "        current_precision = 0\n",
    "        current_recall = 0\n",
    "  epoch_loss = epoch_loss/len(test_dl)\n",
    "  epoch_accuracy = get_accuracy(epoch_output_ls,epoch_trg_ls)\n",
    "  epoch_precision = get_precision(epoch_output_ls, epoch_trg_ls)\n",
    "  epoch_recall = get_recall(epoch_output_ls, epoch_trg_ls)\n",
    "  return {\n",
    "      \"epoch_loss\":epoch_loss,\n",
    "      \"epoch_accuracy\":epoch_accuracy,\n",
    "      \"epoch_precision\":epoch_precision,\n",
    "      \"epoch_recall\":epoch_recall\n",
    "  }"
   ]
  },
  {
   "cell_type": "markdown",
   "metadata": {},
   "source": [
    "### Define evaluation step after each epoch of training + model saving"
   ]
  },
  {
   "cell_type": "code",
   "execution_count": 87,
   "metadata": {
    "id": "9xeLw0CtlK4G"
   },
   "outputs": [],
   "source": [
    "def train_eval_loop(model_name, model, train_func, test_func, train_dl, test_dl, start_epoch = 0, num_epochs = 5, state_dict_name = \"\"):\n",
    "  metrics = {\n",
    "      \"model_name\":model_name,\n",
    "      \"num_epochs\":num_epochs,\n",
    "      \"train\":[],\n",
    "      \"test\":[]\n",
    "  }\n",
    "  for epoch in range(start_epoch,start_epoch + num_epochs):\n",
    "    print(f\"===> epoch: {epoch}\")\n",
    "    print(\"===> train metrics\")\n",
    "    train_metrics = train_func(model, train_dl)\n",
    "    print(train_metrics)\n",
    "    print(\"===> evaluate\")\n",
    "    test_metrics = test_func(model, test_dl)\n",
    "    print(test_metrics)\n",
    "    metrics[\"train\"].append(train_metrics)\n",
    "    metrics[\"test\"].append(test_metrics)\n",
    "    # save_state_dict(model, f\"{state_dict_name}_{epoch}\")\n",
    "    # upload_state_dict_to_drive(f\"{state_dict_name}_{epoch}\")\n",
    "    torch.save(model.state_dict(), state_dict_name+\".pth\")\n",
    "  return metrics"
   ]
  },
  {
   "cell_type": "code",
   "execution_count": 88,
   "metadata": {
    "colab": {
     "base_uri": "https://localhost:8080/"
    },
    "id": "isAD5Oy8i0D5",
    "outputId": "cf16a14a-e5b3-43e6-9eaa-0474a63a6472"
   },
   "outputs": [
    {
     "data": {
      "text/plain": [
       "PureLSTM(\n",
       "  (rnn): LSTM(100, 128, num_layers=2, dropout=0.4)\n",
       "  (bn): BatchNorm1d(1, eps=1e-05, momentum=0.1, affine=True, track_running_stats=True)\n",
       "  (relu): LeakyReLU(negative_slope=0.05)\n",
       "  (classifier): Sequential(\n",
       "    (0): Linear(in_features=128, out_features=1, bias=True)\n",
       "    (1): Sigmoid()\n",
       "  )\n",
       ")"
      ]
     },
     "execution_count": 88,
     "metadata": {},
     "output_type": "execute_result"
    }
   ],
   "source": [
    "model"
   ]
  },
  {
   "cell_type": "markdown",
   "metadata": {
    "id": "lIjpQ4GNlnyA"
   },
   "source": [
    "### Train Eval Loop"
   ]
  },
  {
   "cell_type": "code",
   "execution_count": 89,
   "metadata": {
    "id": "ZdPZiNyClr_y"
   },
   "outputs": [],
   "source": [
    "from enum import Enum\n",
    "class Models(Enum):\n",
    "  CNN_LSTM = \"CNN_LSTM\"\n",
    "  PureCNN = \"PureCNN\"\n",
    "  PureLSTM = \"PureLSTM\""
   ]
  },
  {
   "cell_type": "code",
   "execution_count": 90,
   "metadata": {
    "id": "JCoOONN0UTtm"
   },
   "outputs": [],
   "source": [
    "metrics = []"
   ]
  },
  {
   "cell_type": "markdown",
   "metadata": {},
   "source": [
    "## Start training phase"
   ]
  },
  {
   "cell_type": "code",
   "execution_count": 91,
   "metadata": {
    "colab": {
     "base_uri": "https://localhost:8080/"
    },
    "id": "l4D23uxoiS23",
    "outputId": "177867e3-1f9c-42c5-d1fa-8f5d6faba15d"
   },
   "outputs": [
    {
     "name": "stdout",
     "output_type": "stream",
     "text": [
      "===> epoch: 0\n",
      "===> train metrics\n",
      "iter 5000\n",
      "outputs\n",
      "[0.3833853304386139]\n",
      "trg\n",
      "[1]\n",
      "avg accuracy over 5000 batches 0.607878424315137\n",
      "avg precision over 5000 batches 0.1111111111111111\n",
      "avg recall over 5000 batches 0.0005117707267144319\n",
      "avg loss over 5000 batches 0.6724599867016077\n",
      "iter 10000\n",
      "outputs\n",
      "[0.3243158161640167]\n",
      "trg\n",
      "[0]\n",
      "avg accuracy over 5000 batches 0.6144\n",
      "avg precision over 5000 batches 0.4444444444444444\n",
      "avg recall over 5000 batches 0.008316008316008316\n",
      "avg loss over 5000 batches 0.6674522800654172\n"
     ]
    },
    {
     "ename": "KeyboardInterrupt",
     "evalue": "",
     "output_type": "error",
     "traceback": [
      "\u001b[0;31m---------------------------------------------------------------------------\u001b[0m",
      "\u001b[0;31mKeyboardInterrupt\u001b[0m                         Traceback (most recent call last)",
      "Cell \u001b[0;32mIn[91], line 1\u001b[0m\n\u001b[0;32m----> 1\u001b[0m metrics\u001b[38;5;241m.\u001b[39mappend(\u001b[43mtrain_eval_loop\u001b[49m\u001b[43m(\u001b[49m\n\u001b[1;32m      2\u001b[0m \u001b[43m    \u001b[49m\u001b[43mModels\u001b[49m\u001b[38;5;241;43m.\u001b[39;49m\u001b[43mPureLSTM\u001b[49m\u001b[38;5;241;43m.\u001b[39;49m\u001b[43mvalue\u001b[49m\u001b[43m,\u001b[49m\n\u001b[1;32m      3\u001b[0m \u001b[43m    \u001b[49m\u001b[43mmodel\u001b[49m\u001b[43m,\u001b[49m\n\u001b[1;32m      4\u001b[0m \u001b[43m    \u001b[49m\u001b[43mtrain_PureLSTM\u001b[49m\u001b[43m,\u001b[49m\n\u001b[1;32m      5\u001b[0m \u001b[43m    \u001b[49m\u001b[43mevaluate_PureLSTM\u001b[49m\u001b[43m,\u001b[49m\n\u001b[1;32m      6\u001b[0m \u001b[43m    \u001b[49m\u001b[43mtrain_dl\u001b[49m\u001b[43m,\u001b[49m\u001b[43mtest_dl\u001b[49m\u001b[43m,\u001b[49m\n\u001b[1;32m      7\u001b[0m \u001b[43m    \u001b[49m\u001b[43mstart_epoch\u001b[49m\u001b[43m \u001b[49m\u001b[38;5;241;43m=\u001b[39;49m\u001b[43m \u001b[49m\u001b[38;5;241;43m0\u001b[39;49m\u001b[43m,\u001b[49m\n\u001b[1;32m      8\u001b[0m \u001b[43m    \u001b[49m\u001b[43mnum_epochs\u001b[49m\u001b[43m \u001b[49m\u001b[38;5;241;43m=\u001b[39;49m\u001b[43m \u001b[49m\u001b[38;5;241;43m10\u001b[39;49m\u001b[43m,\u001b[49m\n\u001b[1;32m      9\u001b[0m \u001b[43m    \u001b[49m\u001b[43mstate_dict_name\u001b[49m\u001b[43m \u001b[49m\u001b[38;5;241;43m=\u001b[39;49m\u001b[43m \u001b[49m\u001b[38;5;124;43m\"\u001b[39;49m\u001b[38;5;124;43mPureLSTM_v9\u001b[39;49m\u001b[38;5;124;43m\"\u001b[39;49m\n\u001b[1;32m     10\u001b[0m \u001b[43m)\u001b[49m)\n",
      "Cell \u001b[0;32mIn[87], line 11\u001b[0m, in \u001b[0;36mtrain_eval_loop\u001b[0;34m(model_name, model, train_func, test_func, train_dl, test_dl, start_epoch, num_epochs, state_dict_name)\u001b[0m\n\u001b[1;32m      9\u001b[0m \u001b[38;5;28mprint\u001b[39m(\u001b[38;5;124mf\u001b[39m\u001b[38;5;124m\"\u001b[39m\u001b[38;5;124m===> epoch: \u001b[39m\u001b[38;5;132;01m{\u001b[39;00mepoch\u001b[38;5;132;01m}\u001b[39;00m\u001b[38;5;124m\"\u001b[39m)\n\u001b[1;32m     10\u001b[0m \u001b[38;5;28mprint\u001b[39m(\u001b[38;5;124m\"\u001b[39m\u001b[38;5;124m===> train metrics\u001b[39m\u001b[38;5;124m\"\u001b[39m)\n\u001b[0;32m---> 11\u001b[0m train_metrics \u001b[38;5;241m=\u001b[39m \u001b[43mtrain_func\u001b[49m\u001b[43m(\u001b[49m\u001b[43mmodel\u001b[49m\u001b[43m,\u001b[49m\u001b[43m \u001b[49m\u001b[43mtrain_dl\u001b[49m\u001b[43m)\u001b[49m\n\u001b[1;32m     12\u001b[0m \u001b[38;5;28mprint\u001b[39m(train_metrics)\n\u001b[1;32m     13\u001b[0m \u001b[38;5;28mprint\u001b[39m(\u001b[38;5;124m\"\u001b[39m\u001b[38;5;124m===> evaluate\u001b[39m\u001b[38;5;124m\"\u001b[39m)\n",
      "Cell \u001b[0;32mIn[85], line 28\u001b[0m, in \u001b[0;36mtrain_PureLSTM\u001b[0;34m(model, train_dl, print_interval)\u001b[0m\n\u001b[1;32m     26\u001b[0m current_loss \u001b[38;5;241m+\u001b[39m\u001b[38;5;241m=\u001b[39m loss\u001b[38;5;241m.\u001b[39mitem()\n\u001b[1;32m     27\u001b[0m epoch_loss \u001b[38;5;241m+\u001b[39m\u001b[38;5;241m=\u001b[39m loss\u001b[38;5;241m.\u001b[39mitem()\n\u001b[0;32m---> 28\u001b[0m \u001b[43mloss\u001b[49m\u001b[38;5;241;43m.\u001b[39;49m\u001b[43mbackward\u001b[49m\u001b[43m(\u001b[49m\u001b[43m)\u001b[49m\n\u001b[1;32m     29\u001b[0m optimizer\u001b[38;5;241m.\u001b[39mstep()\n\u001b[1;32m     30\u001b[0m outputs,trg \u001b[38;5;241m=\u001b[39m outputs\u001b[38;5;241m.\u001b[39mview(\u001b[38;5;241m-\u001b[39m\u001b[38;5;241m1\u001b[39m),trg\u001b[38;5;241m.\u001b[39mview(\u001b[38;5;241m-\u001b[39m\u001b[38;5;241m1\u001b[39m)\n",
      "File \u001b[0;32m/opt/conda/lib/python3.11/site-packages/torch/_tensor.py:492\u001b[0m, in \u001b[0;36mTensor.backward\u001b[0;34m(self, gradient, retain_graph, create_graph, inputs)\u001b[0m\n\u001b[1;32m    482\u001b[0m \u001b[38;5;28;01mif\u001b[39;00m has_torch_function_unary(\u001b[38;5;28mself\u001b[39m):\n\u001b[1;32m    483\u001b[0m     \u001b[38;5;28;01mreturn\u001b[39;00m handle_torch_function(\n\u001b[1;32m    484\u001b[0m         Tensor\u001b[38;5;241m.\u001b[39mbackward,\n\u001b[1;32m    485\u001b[0m         (\u001b[38;5;28mself\u001b[39m,),\n\u001b[0;32m   (...)\u001b[0m\n\u001b[1;32m    490\u001b[0m         inputs\u001b[38;5;241m=\u001b[39minputs,\n\u001b[1;32m    491\u001b[0m     )\n\u001b[0;32m--> 492\u001b[0m \u001b[43mtorch\u001b[49m\u001b[38;5;241;43m.\u001b[39;49m\u001b[43mautograd\u001b[49m\u001b[38;5;241;43m.\u001b[39;49m\u001b[43mbackward\u001b[49m\u001b[43m(\u001b[49m\n\u001b[1;32m    493\u001b[0m \u001b[43m    \u001b[49m\u001b[38;5;28;43mself\u001b[39;49m\u001b[43m,\u001b[49m\u001b[43m \u001b[49m\u001b[43mgradient\u001b[49m\u001b[43m,\u001b[49m\u001b[43m \u001b[49m\u001b[43mretain_graph\u001b[49m\u001b[43m,\u001b[49m\u001b[43m \u001b[49m\u001b[43mcreate_graph\u001b[49m\u001b[43m,\u001b[49m\u001b[43m \u001b[49m\u001b[43minputs\u001b[49m\u001b[38;5;241;43m=\u001b[39;49m\u001b[43minputs\u001b[49m\n\u001b[1;32m    494\u001b[0m \u001b[43m\u001b[49m\u001b[43m)\u001b[49m\n",
      "File \u001b[0;32m/opt/conda/lib/python3.11/site-packages/torch/autograd/__init__.py:251\u001b[0m, in \u001b[0;36mbackward\u001b[0;34m(tensors, grad_tensors, retain_graph, create_graph, grad_variables, inputs)\u001b[0m\n\u001b[1;32m    246\u001b[0m     retain_graph \u001b[38;5;241m=\u001b[39m create_graph\n\u001b[1;32m    248\u001b[0m \u001b[38;5;66;03m# The reason we repeat the same comment below is that\u001b[39;00m\n\u001b[1;32m    249\u001b[0m \u001b[38;5;66;03m# some Python versions print out the first line of a multi-line function\u001b[39;00m\n\u001b[1;32m    250\u001b[0m \u001b[38;5;66;03m# calls in the traceback and some print out the last line\u001b[39;00m\n\u001b[0;32m--> 251\u001b[0m \u001b[43mVariable\u001b[49m\u001b[38;5;241;43m.\u001b[39;49m\u001b[43m_execution_engine\u001b[49m\u001b[38;5;241;43m.\u001b[39;49m\u001b[43mrun_backward\u001b[49m\u001b[43m(\u001b[49m\u001b[43m  \u001b[49m\u001b[38;5;66;43;03m# Calls into the C++ engine to run the backward pass\u001b[39;49;00m\n\u001b[1;32m    252\u001b[0m \u001b[43m    \u001b[49m\u001b[43mtensors\u001b[49m\u001b[43m,\u001b[49m\n\u001b[1;32m    253\u001b[0m \u001b[43m    \u001b[49m\u001b[43mgrad_tensors_\u001b[49m\u001b[43m,\u001b[49m\n\u001b[1;32m    254\u001b[0m \u001b[43m    \u001b[49m\u001b[43mretain_graph\u001b[49m\u001b[43m,\u001b[49m\n\u001b[1;32m    255\u001b[0m \u001b[43m    \u001b[49m\u001b[43mcreate_graph\u001b[49m\u001b[43m,\u001b[49m\n\u001b[1;32m    256\u001b[0m \u001b[43m    \u001b[49m\u001b[43minputs\u001b[49m\u001b[43m,\u001b[49m\n\u001b[1;32m    257\u001b[0m \u001b[43m    \u001b[49m\u001b[43mallow_unreachable\u001b[49m\u001b[38;5;241;43m=\u001b[39;49m\u001b[38;5;28;43;01mTrue\u001b[39;49;00m\u001b[43m,\u001b[49m\n\u001b[1;32m    258\u001b[0m \u001b[43m    \u001b[49m\u001b[43maccumulate_grad\u001b[49m\u001b[38;5;241;43m=\u001b[39;49m\u001b[38;5;28;43;01mTrue\u001b[39;49;00m\u001b[43m,\u001b[49m\n\u001b[1;32m    259\u001b[0m \u001b[43m\u001b[49m\u001b[43m)\u001b[49m\n",
      "\u001b[0;31mKeyboardInterrupt\u001b[0m: "
     ]
    }
   ],
   "source": [
    "metrics.append(train_eval_loop(\n",
    "    Models.PureLSTM.value,\n",
    "    model,\n",
    "    train_PureLSTM,\n",
    "    evaluate_PureLSTM,\n",
    "    train_dl,test_dl,\n",
    "    start_epoch = 0,\n",
    "    num_epochs = 10,\n",
    "    state_dict_name = \"PureLSTM_v9\"\n",
    "))"
   ]
  },
  {
   "cell_type": "markdown",
   "metadata": {},
   "source": [
    "## View results/scores for each epoch"
   ]
  },
  {
   "cell_type": "code",
   "execution_count": 40,
   "metadata": {
    "colab": {
     "base_uri": "https://localhost:8080/"
    },
    "id": "aH5ujT9wiqHa",
    "outputId": "3250d1d2-bf4d-4d3b-a562-7a50c9710438"
   },
   "outputs": [
    {
     "name": "stdout",
     "output_type": "stream",
     "text": [
      "[{'epoch_loss': 0.6741210516850265, 'epoch_accuracy': 0.6206856613388928, 'epoch_precision': 'NA', 'epoch_recall': 0.0}, {'epoch_loss': 0.6862087730910066, 'epoch_accuracy': 0.6206856613388928, 'epoch_precision': 'NA', 'epoch_recall': 0.0}, {'epoch_loss': 0.6585765952934317, 'epoch_accuracy': 0.6206856613388928, 'epoch_precision': 'NA', 'epoch_recall': 0.0}, {'epoch_loss': 0.6515405289349848, 'epoch_accuracy': 0.6206856613388928, 'epoch_precision': 'NA', 'epoch_recall': 0.0}, {'epoch_loss': 0.6300656555700708, 'epoch_accuracy': 0.6517257354644429, 'epoch_precision': 0.5889183808891838, 'epoch_recall': 0.27099236641221375}, {'epoch_loss': 0.6517209420582543, 'epoch_accuracy': 0.6611072504053741, 'epoch_precision': 0.5726175613816064, 'epoch_recall': 0.4201526717557252}, {'epoch_loss': 0.6906493019790686, 'epoch_accuracy': 0.6393907806347, 'epoch_precision': 0.6765027322404371, 'epoch_recall': 0.09450381679389314}, {'epoch_loss': 0.6266964530790294, 'epoch_accuracy': 0.6653347231873986, 'epoch_precision': 0.6996374935266702, 'epoch_recall': 0.2062595419847328}, {'epoch_loss': 0.6171720864295805, 'epoch_accuracy': 0.6545633541811443, 'epoch_precision': 0.5481481481481482, 'epoch_recall': 0.5083969465648855}, {'epoch_loss': 0.6587326350676325, 'epoch_accuracy': 0.6618021774380357, 'epoch_precision': 0.6858638743455497, 'epoch_recall': 0.2}]\n"
     ]
    }
   ],
   "source": [
    "flattened_train_metrics = []\n",
    "flattened_test_metrics = []\n",
    "for metric_dict in metrics:\n",
    "  flattened_train_metrics.extend(metric_dict[\"train\"])\n",
    "  flattened_test_metrics.extend(metric_dict[\"test\"])\n",
    "print(flattened_test_metrics)"
   ]
  },
  {
   "cell_type": "markdown",
   "metadata": {},
   "source": [
    "## Plotting"
   ]
  },
  {
   "cell_type": "code",
   "execution_count": 41,
   "metadata": {
    "id": "YcQZlK9S9Ru7"
   },
   "outputs": [],
   "source": [
    "loss_plot = [metric[\"epoch_loss\"] for metric in flattened_test_metrics]\n",
    "precision_plot = [metric[\"epoch_precision\"] for metric in flattened_test_metrics]\n",
    "accuracy_plot = [metric[\"epoch_accuracy\"] for metric in flattened_test_metrics]\n",
    "recall_plot = [metric[\"epoch_recall\"] for metric in flattened_test_metrics]"
   ]
  },
  {
   "cell_type": "code",
   "execution_count": 42,
   "metadata": {
    "colab": {
     "base_uri": "https://localhost:8080/",
     "height": 538
    },
    "id": "_hLt630_IUIf",
    "outputId": "b0bea2bc-db80-4680-d168-975ee9132116"
   },
   "outputs": [
    {
     "name": "stdout",
     "output_type": "stream",
     "text": [
      "(10,)\n",
      "(10,)\n"
     ]
    },
    {
     "data": {
      "text/plain": [
       "<Figure size 10000x1000 with 0 Axes>"
      ]
     },
     "metadata": {},
     "output_type": "display_data"
    },
    {
     "data": {
      "image/png": "[encoded data removed]",
      "text/plain": [
       "<Figure size 640x480 with 4 Axes>"
      ]
     },
     "metadata": {},
     "output_type": "display_data"
    }
   ],
   "source": [
    "X = np.arange(1,11)\n",
    "print(X.shape)\n",
    "print(np.array(precision_plot).shape)\n",
    "plt.figure(figsize=(100,10))\n",
    "\n",
    "# Initialise the subplot function using number of rows and columns\n",
    "figure, axis = plt.subplots(2, 2)\n",
    "\n",
    "# For Sine Function\n",
    "axis[0, 0].plot(X, np.array(precision_plot))\n",
    "axis[0, 0].set_title(\"Precision / epoch\")\n",
    "\n",
    "# For Cosine Function\n",
    "axis[0, 1].plot(X, np.array(recall_plot))\n",
    "axis[0, 1].set_title(\"Recall / epoch\")\n",
    "\n",
    "# For Tangent Function\n",
    "axis[1, 0].plot(X, np.array(accuracy_plot))\n",
    "axis[1, 0].set_title(\"Accuracy / epoch\")\n",
    "\n",
    "# For Tanh Function\n",
    "axis[1, 1].plot(X, np.array(loss_plot))\n",
    "axis[1, 1].set_title(\"Loss / epoch\")\n",
    "plt.tight_layout()\n",
    "plt.savefig('PureLSTM_v9')\n",
    "\n",
    "plt.show()\n",
    "# # Image.open('128_conv_1024_hidden_2_layer_lstm.png').save('128_conv_1024_hidden_2_layer_lstm.jpg','JPEG')"
   ]
  },
  {
   "cell_type": "code",
   "execution_count": null,
   "metadata": {},
   "outputs": [],
   "source": []
  }
 ],
 "metadata": {
  "accelerator": "GPU",
  "colab": {
   "collapsed_sections": [
    "Nvz2cDUhV6ll",
    "1jbOfbYTV6lo",
    "iN3ADJZkV6lo",
    "1E4TGJ5AV6lq",
    "LiJdGgX4V6ls",
    "zSTq57ogV6ls",
    "kZQ6Jl9QV6l1",
    "ZD21yDdBV6l1",
    "qezJwR57V6l1",
    "KtxsKT6wV6l2",
    "evnu49BOV6l2",
    "HJgkU72_V6l3",
    "t20qiPuvPBsR"
   ],
   "gpuType": "T4",
   "provenance": []
  },
  "kernelspec": {
   "display_name": "Python 3 (ipykernel)",
   "language": "python",
   "name": "python3"
  },
  "language_info": {
   "codemirror_mode": {
    "name": "ipython",
    "version": 3
   },
   "file_extension": ".py",
   "mimetype": "text/x-python",
   "name": "python",
   "nbconvert_exporter": "python",
   "pygments_lexer": "ipython3",
   "version": "3.11.6"
  }
 },
 "nbformat": 4,
 "nbformat_minor": 4
}
