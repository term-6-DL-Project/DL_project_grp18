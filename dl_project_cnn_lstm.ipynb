{
 "cells": [
  {
   "cell_type": "markdown",
   "metadata": {},
   "source": [
    "## 1. Download and unzip dataset"
   ]
  },
  {
   "cell_type": "code",
   "execution_count": 1,
   "metadata": {},
   "outputs": [
    {
     "name": "stdout",
     "output_type": "stream",
     "text": [
      "Requirement already satisfied: google-auth in /opt/conda/lib/python3.11/site-packages (2.29.0)\n",
      "Requirement already satisfied: google-auth-oauthlib in /opt/conda/lib/python3.11/site-packages (1.2.0)\n",
      "Requirement already satisfied: google-auth-httplib2 in /opt/conda/lib/python3.11/site-packages (0.2.0)\n",
      "Requirement already satisfied: cachetools<6.0,>=2.0.0 in /opt/conda/lib/python3.11/site-packages (from google-auth) (5.3.2)\n",
      "Requirement already satisfied: pyasn1-modules>=0.2.1 in /opt/conda/lib/python3.11/site-packages (from google-auth) (0.4.0)\n",
      "Requirement already satisfied: rsa<5,>=3.1.4 in /opt/conda/lib/python3.11/site-packages (from google-auth) (4.9)\n",
      "Requirement already satisfied: requests-oauthlib>=0.7.0 in /opt/conda/lib/python3.11/site-packages (from google-auth-oauthlib) (2.0.0)\n",
      "Requirement already satisfied: httplib2>=0.19.0 in /opt/conda/lib/python3.11/site-packages (from google-auth-httplib2) (0.22.0)\n",
      "Requirement already satisfied: pyparsing!=3.0.0,!=3.0.1,!=3.0.2,!=3.0.3,<4,>=2.4.2 in /opt/conda/lib/python3.11/site-packages (from httplib2>=0.19.0->google-auth-httplib2) (3.1.2)\n",
      "Requirement already satisfied: pyasn1<0.7.0,>=0.4.6 in /opt/conda/lib/python3.11/site-packages (from pyasn1-modules>=0.2.1->google-auth) (0.6.0)\n",
      "Requirement already satisfied: oauthlib>=3.0.0 in /opt/conda/lib/python3.11/site-packages (from requests-oauthlib>=0.7.0->google-auth-oauthlib) (3.2.2)\n",
      "Requirement already satisfied: requests>=2.0.0 in /opt/conda/lib/python3.11/site-packages (from requests-oauthlib>=0.7.0->google-auth-oauthlib) (2.31.0)\n",
      "Requirement already satisfied: charset-normalizer<4,>=2 in /opt/conda/lib/python3.11/site-packages (from requests>=2.0.0->requests-oauthlib>=0.7.0->google-auth-oauthlib) (3.3.2)\n",
      "Requirement already satisfied: idna<4,>=2.5 in /opt/conda/lib/python3.11/site-packages (from requests>=2.0.0->requests-oauthlib>=0.7.0->google-auth-oauthlib) (3.4)\n",
      "Requirement already satisfied: urllib3<3,>=1.21.1 in /opt/conda/lib/python3.11/site-packages (from requests>=2.0.0->requests-oauthlib>=0.7.0->google-auth-oauthlib) (2.1.0)\n",
      "Requirement already satisfied: certifi>=2017.4.17 in /opt/conda/lib/python3.11/site-packages (from requests>=2.0.0->requests-oauthlib>=0.7.0->google-auth-oauthlib) (2023.7.22)\n",
      "Requirement already satisfied: google-api-python-client in /opt/conda/lib/python3.11/site-packages (2.125.0)\n",
      "Requirement already satisfied: httplib2<1.dev0,>=0.19.0 in /opt/conda/lib/python3.11/site-packages (from google-api-python-client) (0.22.0)\n",
      "Requirement already satisfied: google-auth!=2.24.0,!=2.25.0,<3.0.0.dev0,>=1.32.0 in /opt/conda/lib/python3.11/site-packages (from google-api-python-client) (2.29.0)\n",
      "Requirement already satisfied: google-auth-httplib2<1.0.0,>=0.2.0 in /opt/conda/lib/python3.11/site-packages (from google-api-python-client) (0.2.0)\n",
      "Requirement already satisfied: google-api-core!=2.0.*,!=2.1.*,!=2.2.*,!=2.3.0,<3.0.0.dev0,>=1.31.5 in /opt/conda/lib/python3.11/site-packages (from google-api-python-client) (2.18.0)\n",
      "Requirement already satisfied: uritemplate<5,>=3.0.1 in /opt/conda/lib/python3.11/site-packages (from google-api-python-client) (4.1.1)\n",
      "Requirement already satisfied: googleapis-common-protos<2.0.dev0,>=1.56.2 in /opt/conda/lib/python3.11/site-packages (from google-api-core!=2.0.*,!=2.1.*,!=2.2.*,!=2.3.0,<3.0.0.dev0,>=1.31.5->google-api-python-client) (1.63.0)\n",
      "Requirement already satisfied: protobuf!=3.20.0,!=3.20.1,!=4.21.0,!=4.21.1,!=4.21.2,!=4.21.3,!=4.21.4,!=4.21.5,<5.0.0.dev0,>=3.19.5 in /opt/conda/lib/python3.11/site-packages (from google-api-core!=2.0.*,!=2.1.*,!=2.2.*,!=2.3.0,<3.0.0.dev0,>=1.31.5->google-api-python-client) (4.25.3)\n",
      "Requirement already satisfied: proto-plus<2.0.0dev,>=1.22.3 in /opt/conda/lib/python3.11/site-packages (from google-api-core!=2.0.*,!=2.1.*,!=2.2.*,!=2.3.0,<3.0.0.dev0,>=1.31.5->google-api-python-client) (1.23.0)\n",
      "Requirement already satisfied: requests<3.0.0.dev0,>=2.18.0 in /opt/conda/lib/python3.11/site-packages (from google-api-core!=2.0.*,!=2.1.*,!=2.2.*,!=2.3.0,<3.0.0.dev0,>=1.31.5->google-api-python-client) (2.31.0)\n",
      "Requirement already satisfied: cachetools<6.0,>=2.0.0 in /opt/conda/lib/python3.11/site-packages (from google-auth!=2.24.0,!=2.25.0,<3.0.0.dev0,>=1.32.0->google-api-python-client) (5.3.2)\n",
      "Requirement already satisfied: pyasn1-modules>=0.2.1 in /opt/conda/lib/python3.11/site-packages (from google-auth!=2.24.0,!=2.25.0,<3.0.0.dev0,>=1.32.0->google-api-python-client) (0.4.0)\n",
      "Requirement already satisfied: rsa<5,>=3.1.4 in /opt/conda/lib/python3.11/site-packages (from google-auth!=2.24.0,!=2.25.0,<3.0.0.dev0,>=1.32.0->google-api-python-client) (4.9)\n",
      "Requirement already satisfied: pyparsing!=3.0.0,!=3.0.1,!=3.0.2,!=3.0.3,<4,>=2.4.2 in /opt/conda/lib/python3.11/site-packages (from httplib2<1.dev0,>=0.19.0->google-api-python-client) (3.1.2)\n",
      "Requirement already satisfied: pyasn1<0.7.0,>=0.4.6 in /opt/conda/lib/python3.11/site-packages (from pyasn1-modules>=0.2.1->google-auth!=2.24.0,!=2.25.0,<3.0.0.dev0,>=1.32.0->google-api-python-client) (0.6.0)\n",
      "Requirement already satisfied: charset-normalizer<4,>=2 in /opt/conda/lib/python3.11/site-packages (from requests<3.0.0.dev0,>=2.18.0->google-api-core!=2.0.*,!=2.1.*,!=2.2.*,!=2.3.0,<3.0.0.dev0,>=1.31.5->google-api-python-client) (3.3.2)\n",
      "Requirement already satisfied: idna<4,>=2.5 in /opt/conda/lib/python3.11/site-packages (from requests<3.0.0.dev0,>=2.18.0->google-api-core!=2.0.*,!=2.1.*,!=2.2.*,!=2.3.0,<3.0.0.dev0,>=1.31.5->google-api-python-client) (3.4)\n",
      "Requirement already satisfied: urllib3<3,>=1.21.1 in /opt/conda/lib/python3.11/site-packages (from requests<3.0.0.dev0,>=2.18.0->google-api-core!=2.0.*,!=2.1.*,!=2.2.*,!=2.3.0,<3.0.0.dev0,>=1.31.5->google-api-python-client) (2.1.0)\n",
      "Requirement already satisfied: certifi>=2017.4.17 in /opt/conda/lib/python3.11/site-packages (from requests<3.0.0.dev0,>=2.18.0->google-api-core!=2.0.*,!=2.1.*,!=2.2.*,!=2.3.0,<3.0.0.dev0,>=1.31.5->google-api-python-client) (2023.7.22)\n"
     ]
    }
   ],
   "source": [
    "!pip install google-auth google-auth-oauthlib google-auth-httplib2\n",
    "!pip install google-api-python-client"
   ]
  },
  {
   "cell_type": "code",
   "execution_count": 2,
   "metadata": {
    "id": "BtJvnCz2V-Jt"
   },
   "outputs": [],
   "source": [
    "# Authenticate with service account credentials\n",
    "from google.oauth2 import service_account\n",
    "from google.auth.transport.requests import Request\n",
    "# Access Google Drive using the authenticated credentials\n",
    "from googleapiclient.discovery import build\n",
    "from googleapiclient.http import MediaFileUpload,MediaIoBaseDownload\n",
    "import os\n",
    "import io\n",
    "from google_drive_utils import *\n",
    "from helper_utils import *"
   ]
  },
  {
   "cell_type": "code",
   "execution_count": 3,
   "metadata": {
    "colab": {
     "base_uri": "https://localhost:8080/"
    },
    "id": "8_X5LPzZWbnE",
    "outputId": "e8ea0b4c-5a51-49b4-b274-158e11a20da8"
   },
   "outputs": [
    {
     "name": "stdout",
     "output_type": "stream",
     "text": [
      "fount dataset in drive\n",
      "starting download...\n",
      "Download 31.\n",
      "Download 63.\n",
      "Download 95.\n",
      "Download 100.\n"
     ]
    }
   ],
   "source": [
    "drive_service = get_drive_service()\n",
    "get_dataset_from_drive(drive_service)"
   ]
  },
  {
   "cell_type": "code",
   "execution_count": 4,
   "metadata": {
    "id": "MlTAOrJtzWyO"
   },
   "outputs": [
    {
     "name": "stdout",
     "output_type": "stream",
     "text": [
      "Archive:  apnea-ecg-database-1.0.0.zip\n",
      "replace apnea-ecg-database-1.0.0/x02.apn? [y]es, [n]o, [A]ll, [N]one, [r]ename: ^C\n"
     ]
    }
   ],
   "source": [
    "!unzip apnea-ecg-database-1.0.0.zip -d apnea-ecg-database-1.0.0"
   ]
  },
  {
   "cell_type": "code",
   "execution_count": 5,
   "metadata": {
    "colab": {
     "base_uri": "https://localhost:8080/"
    },
    "id": "soDxfYBrXVxA",
    "outputId": "a3551949-15fd-488b-9298-82f607663bc7"
   },
   "outputs": [
    {
     "name": "stdout",
     "output_type": "stream",
     "text": [
      "Requirement already satisfied: wfdb in /opt/conda/lib/python3.11/site-packages (4.1.2)\n",
      "Requirement already satisfied: SoundFile>=0.10.0 in /opt/conda/lib/python3.11/site-packages (from wfdb) (0.12.1)\n",
      "Requirement already satisfied: matplotlib>=3.2.2 in /opt/conda/lib/python3.11/site-packages (from wfdb) (3.8.4)\n",
      "Requirement already satisfied: numpy>=1.10.1 in /opt/conda/lib/python3.11/site-packages (from wfdb) (1.26.0)\n",
      "Requirement already satisfied: pandas>=1.3.0 in /opt/conda/lib/python3.11/site-packages (from wfdb) (2.2.2)\n",
      "Requirement already satisfied: requests>=2.8.1 in /opt/conda/lib/python3.11/site-packages (from wfdb) (2.31.0)\n",
      "Requirement already satisfied: scipy>=1.0.0 in /opt/conda/lib/python3.11/site-packages (from wfdb) (1.13.0)\n",
      "Requirement already satisfied: contourpy>=1.0.1 in /opt/conda/lib/python3.11/site-packages (from matplotlib>=3.2.2->wfdb) (1.2.1)\n",
      "Requirement already satisfied: cycler>=0.10 in /opt/conda/lib/python3.11/site-packages (from matplotlib>=3.2.2->wfdb) (0.12.1)\n",
      "Requirement already satisfied: fonttools>=4.22.0 in /opt/conda/lib/python3.11/site-packages (from matplotlib>=3.2.2->wfdb) (4.51.0)\n",
      "Requirement already satisfied: kiwisolver>=1.3.1 in /opt/conda/lib/python3.11/site-packages (from matplotlib>=3.2.2->wfdb) (1.4.5)\n",
      "Requirement already satisfied: packaging>=20.0 in /opt/conda/lib/python3.11/site-packages (from matplotlib>=3.2.2->wfdb) (23.2)\n",
      "Requirement already satisfied: pillow>=8 in /opt/conda/lib/python3.11/site-packages (from matplotlib>=3.2.2->wfdb) (9.3.0)\n",
      "Requirement already satisfied: pyparsing>=2.3.1 in /opt/conda/lib/python3.11/site-packages (from matplotlib>=3.2.2->wfdb) (3.1.2)\n",
      "Requirement already satisfied: python-dateutil>=2.7 in /opt/conda/lib/python3.11/site-packages (from matplotlib>=3.2.2->wfdb) (2.8.2)\n",
      "Requirement already satisfied: pytz>=2020.1 in /opt/conda/lib/python3.11/site-packages (from pandas>=1.3.0->wfdb) (2023.3.post1)\n",
      "Requirement already satisfied: tzdata>=2022.7 in /opt/conda/lib/python3.11/site-packages (from pandas>=1.3.0->wfdb) (2024.1)\n",
      "Requirement already satisfied: charset-normalizer<4,>=2 in /opt/conda/lib/python3.11/site-packages (from requests>=2.8.1->wfdb) (3.3.2)\n",
      "Requirement already satisfied: idna<4,>=2.5 in /opt/conda/lib/python3.11/site-packages (from requests>=2.8.1->wfdb) (3.4)\n",
      "Requirement already satisfied: urllib3<3,>=1.21.1 in /opt/conda/lib/python3.11/site-packages (from requests>=2.8.1->wfdb) (2.1.0)\n",
      "Requirement already satisfied: certifi>=2017.4.17 in /opt/conda/lib/python3.11/site-packages (from requests>=2.8.1->wfdb) (2023.7.22)\n",
      "Requirement already satisfied: cffi>=1.0 in /opt/conda/lib/python3.11/site-packages (from SoundFile>=0.10.0->wfdb) (1.16.0)\n",
      "Requirement already satisfied: pycparser in /opt/conda/lib/python3.11/site-packages (from cffi>=1.0->SoundFile>=0.10.0->wfdb) (2.21)\n",
      "Requirement already satisfied: six>=1.5 in /opt/conda/lib/python3.11/site-packages (from python-dateutil>=2.7->matplotlib>=3.2.2->wfdb) (1.16.0)\n"
     ]
    }
   ],
   "source": [
    "!pip install wfdb"
   ]
  },
  {
   "cell_type": "code",
   "execution_count": 6,
   "metadata": {
    "id": "pMR30nrGV6lg"
   },
   "outputs": [],
   "source": [
    "# import the WFDB package\n",
    "import wfdb\n",
    "import numpy as np\n",
    "import scipy\n",
    "from scipy.signal import butter, filtfilt, cheby1, freqz\n",
    "import matplotlib.pyplot as plt"
   ]
  },
  {
   "cell_type": "markdown",
   "metadata": {
    "id": "vNqA7b2HV6lq",
    "jp-MarkdownHeadingCollapsed": true
   },
   "source": [
    "### Implementing chebychev bandpass filter"
   ]
  },
  {
   "cell_type": "markdown",
   "metadata": {
    "id": "RO3E1zZMQhGw"
   },
   "source": [
    "## 2. Signal Preprocessing Functions and Example"
   ]
  },
  {
   "cell_type": "code",
   "execution_count": 7,
   "metadata": {
    "id": "AugSbvDhZKpD"
   },
   "outputs": [],
   "source": [
    "def chebyshev_filter(record):\n",
    "  # Sampling parameters\n",
    "  fs = 100  # Hz, as given in the dataset description\n",
    "\n",
    "  # Desired filter parameters\n",
    "  order = 5 # Polynomial order of the waveform (this current value is an estimation)\n",
    "  Apass = 1.5  # dB, pass-band attuenation which I believe is max allowable amplitude\n",
    "  fcut = 48    # Hz, cut-off frequency (research paper used 0.5 and 48 Hz)\n",
    "\n",
    "  # Normalized frequency argument for cheby1\n",
    "  wn = fcut / (0.5*fs) # Value to be within 0 and 1\n",
    "\n",
    "  [b, a] = cheby1(order, Apass, wn)\n",
    "\n",
    "  w, h = freqz(b, a, worN=8000)\n",
    "\n",
    "  sos = cheby1(order, Apass, wn, output=\"sos\")\n",
    "\n",
    "  signal = record.p_signal\n",
    "  # print(signal.shape)\n",
    "  filtered_signal = scipy.signal.sosfilt(sos, signal)\n",
    "  return filtered_signal"
   ]
  },
  {
   "cell_type": "code",
   "execution_count": 8,
   "metadata": {
    "id": "PDGwqWuEV6l3"
   },
   "outputs": [],
   "source": [
    "# demo the chebyshev filter\n",
    "filename = 'apnea-ecg-database-1.0.0/a01'\n",
    "single_segment = wfdb.rdrecord(filename)\n",
    "annotation_small = wfdb.rdann(filename, extension=\"apn\")"
   ]
  },
  {
   "cell_type": "code",
   "execution_count": 9,
   "metadata": {
    "id": "v73HvOaPhGS3"
   },
   "outputs": [],
   "source": [
    "filtered_signal = chebyshev_filter(single_segment)"
   ]
  },
  {
   "cell_type": "code",
   "execution_count": 10,
   "metadata": {
    "id": "ipfMXLFyy4Qi"
   },
   "outputs": [],
   "source": [
    "def create_spectrogram(signal, nfft = 128, sample_frequency = 100, noverlap = 16):\n",
    "  signal_spectrogram,freq,t,im = plt.specgram(signal, Fs = sample_frequency, NFFT = nfft, noverlap=noverlap, cmap = 'jet_r')\n",
    "  return signal_spectrogram,freq,t"
   ]
  },
  {
   "cell_type": "code",
   "execution_count": 11,
   "metadata": {
    "colab": {
     "base_uri": "https://localhost:8080/",
     "height": 955
    },
    "id": "9OGgoSNw0Pkp",
    "outputId": "04bff60e-1815-49c5-b674-d957e93def71"
   },
   "outputs": [
    {
     "name": "stderr",
     "output_type": "stream",
     "text": [
      "/opt/conda/lib/python3.11/site-packages/matplotlib/axes/_axes.py:7947: RuntimeWarning: divide by zero encountered in log10\n",
      "  Z = 10. * np.log10(spec)\n"
     ]
    },
    {
     "name": "stdout",
     "output_type": "stream",
     "text": [
      "(129, 13200)\n",
      "spectrogram avg value 0.0006377925572091166\n"
     ]
    },
    {
     "data": {
      "image/png": "[encoded data removed]",
      "text/plain": [
       "<Figure size 640x480 with 1 Axes>"
      ]
     },
     "metadata": {},
     "output_type": "display_data"
    }
   ],
   "source": [
    "### Test creation of spectrogram\n",
    "signal_spectrogram,freq,t  = create_spectrogram(np.array(filtered_signal).flatten(),\n",
    "                                              nfft = 256,\n",
    "                                              sample_frequency = 100, # set sample frequencey to be 100 as stated by the dataset\n",
    "                                              noverlap = 32\n",
    "                                              )\n",
    "signal_spectrogram = np.array(signal_spectrogram)\n",
    "print(signal_spectrogram.shape)\n",
    "print('spectrogram avg value', np.mean(signal_spectrogram))"
   ]
  },
  {
   "cell_type": "markdown",
   "metadata": {
    "id": "S_XQlzVnTNw6"
   },
   "source": [
    "## 3. CNN LSTM Model And Dataset"
   ]
  },
  {
   "cell_type": "code",
   "execution_count": 12,
   "metadata": {
    "id": "lY13eBBvxmAY"
   },
   "outputs": [],
   "source": [
    "import torchvision\n",
    "from PIL import Image\n",
    "from torch import nn\n",
    "from torch.utils.data import Dataset, DataLoader\n",
    "import torch\n",
    "from torchvision import io\n",
    "import torchvision\n",
    "import torchvision.transforms as T\n",
    "from torch.nn.utils.rnn import pad_sequence"
   ]
  },
  {
   "cell_type": "markdown",
   "metadata": {
    "id": "jRDvb-ZEo6iP"
   },
   "source": [
    "### 3.1 Dataset"
   ]
  },
  {
   "cell_type": "code",
   "execution_count": 13,
   "metadata": {
    "id": "IE-BLMs8RtTW"
   },
   "outputs": [],
   "source": [
    "def get_spectrogram_and_annotations(file_path, fs = 100):\n",
    "  \"\"\"Split up spectrogram into segments of around 60s in length\"\"\"\n",
    "  signal_record = wfdb.rdrecord(file_path)\n",
    "  signal = wfdb.rdrecord(file_path).p_signal\n",
    "  signal_length = len(signal)\n",
    "  filtered_signal = chebyshev_filter(signal_record)\n",
    "  filtered_signal = np.array(filtered_signal).flatten()\n",
    "  spectrogram,freqs,times = create_spectrogram(filtered_signal)\n",
    "  spectrogram_length = spectrogram.shape[1]\n",
    "  annotations = [[t] for t in wfdb.rdann(file_path, extension = \"apn\").symbol]\n",
    "  num_annotations = len(annotations)\n",
    "\n",
    "  spectrogram_segment_width = np.max(np.where(times < 60))\n",
    "  spectrogram_gap = spectrogram_length // num_annotations\n",
    "  spectrogram_end = (signal_length / fs) // num_annotations * num_annotations\n",
    "  segment_spectrograms = []\n",
    "  segment_times = []\n",
    "\n",
    "  time_gap = round(signal_length / fs / num_annotations,1)\n",
    "  time_window_start = 0\n",
    "  time_window_end = time_gap\n",
    "  cur_time = 0\n",
    "  segment_pointer = 0\n",
    "\n",
    "  start_index = -1\n",
    "  end_index = -1\n",
    "\n",
    "  while time_window_end <= times[-1]:\n",
    "    start_index = np.min(np.where(times >= time_window_start))\n",
    "    end_index = np.min(np.where(times >= time_window_end))\n",
    "    segment_spectrograms.append(spectrogram[:,start_index:end_index])\n",
    "    segment_times.append(times[start_index:end_index])\n",
    "    time_window_start+=time_gap\n",
    "    time_window_end+=time_gap\n",
    "  # print('time window',time_window_start,time_window_end)\n",
    "  if len(segment_spectrograms) < num_annotations:\n",
    "    start_index =  np.min(np.where(times >= time_window_start))\n",
    "    segment_spectrograms.append(spectrogram[:,start_index:-1])\n",
    "    segment_times.append(times[start_index:-1])\n",
    "  correct_spectrogram_shape = segment_spectrograms[0].shape[1]\n",
    "  print(f\"number of spectrograms: {len(segment_spectrograms)}, number of annotations: {len(annotations)}\")\n",
    "  assert(len(segment_spectrograms) == len(annotations))\n",
    "  # print('spectrogram shape',correct_spectrogram_shape)\n",
    "  for i,spec in enumerate(segment_spectrograms):\n",
    "    if abs(spec.shape[1] - correct_spectrogram_shape)>5:\n",
    "      print('different spectrogram shape at index',i)\n",
    "      print(i, spec.shape)\n",
    "  correct_annotation_shape = len(annotations[0])\n",
    "  # print('annotation shape',correct_annotation_shape)\n",
    "  for i,ann in enumerate(annotations):\n",
    "    if abs(len(ann) - correct_annotation_shape)>5:\n",
    "      print('different annotation shape at index',i)\n",
    "      print(i, len(ann))\n",
    "    assert(len(ann) == correct_annotation_shape)\n",
    "  return segment_spectrograms,annotations"
   ]
  },
  {
   "cell_type": "code",
   "execution_count": 14,
   "metadata": {
    "id": "XqmqVkIGDEO9"
   },
   "outputs": [],
   "source": [
    "# from https://www.kaggle.com/code/smjishanulislam/audio-mnist-with-pytorch\n",
    "#option to resize for the PureCNN model\n",
    "feature_transform_resize = T.Compose([\n",
    "    T.ToPILImage(), # convert spectrogram to image\n",
    "    T.Resize((100,100)),\n",
    "    T.ToTensor() # convert to tensor\n",
    "])\n",
    "# keep size as is for CNN-LSTM and PureLSTM (uses padding) \n",
    "feature_transform = T.Compose([\n",
    "    T.ToPILImage(), # convert spectrogram to image\n",
    "    T.ToTensor() # convert to tensor\n",
    "])"
   ]
  },
  {
   "cell_type": "code",
   "execution_count": 15,
   "metadata": {
    "id": "uf5hY0gSS668"
   },
   "outputs": [],
   "source": [
    "class SpectrogramDataset(Dataset):\n",
    "  def __init__(self, file_paths = [], resize_spectrogram = True):\n",
    "    super().__init__()\n",
    "    self.spectrograms = []\n",
    "    self.annotations = []\n",
    "    self.resize_spectrogram = resize_spectrogram\n",
    "    # add data from multiple files to this dataset\n",
    "    for file_path in file_paths:\n",
    "      segment_spectrograms, segment_annotations = get_spectrogram_and_annotations(file_path)\n",
    "      self.spectrograms.extend(segment_spectrograms)\n",
    "      self.annotations.extend(segment_annotations)\n",
    "    self.spectrograms = [torch.from_numpy(spectrogram) for spectrogram in self.spectrograms]\n",
    "        \n",
    "  def __getitem__(self, idx):\n",
    "    src = feature_transform_resize(self.spectrograms[idx]) * 10000 \\\n",
    "      if self.resize_spectrogram \\\n",
    "      else feature_transform(self.spectrograms[idx]) * 10000 \n",
    "    trg = self.annotations[idx]\n",
    "    if trg[0] == \"N\":\n",
    "      trg[0] = 0\n",
    "    elif trg[0] == \"A\":\n",
    "      trg[0] = 1\n",
    "    # print('trg', trg)\n",
    "    return src, trg\n",
    "  def __len__(self):\n",
    "    return len(self.spectrograms)"
   ]
  },
  {
   "cell_type": "code",
   "execution_count": 16,
   "metadata": {
    "colab": {
     "base_uri": "https://localhost:8080/"
    },
    "id": "PAv7XVw7LjWG",
    "outputId": "a4cedc31-f11c-4e11-8ebc-de0ee9f9101d"
   },
   "outputs": [
    {
     "name": "stdout",
     "output_type": "stream",
     "text": [
      "===> distribution of annotations across files\n",
      "apnea-ecg-database-1.0.0/a01\n",
      "(array(['A', 'N'], dtype='<U1'), array([470,  19]))\n",
      "apnea-ecg-database-1.0.0/a02\n",
      "(array(['A', 'N'], dtype='<U1'), array([420, 108]))\n",
      "apnea-ecg-database-1.0.0/a03\n",
      "(array(['A', 'N'], dtype='<U1'), array([246, 273]))\n",
      "apnea-ecg-database-1.0.0/a04\n",
      "(array(['A', 'N'], dtype='<U1'), array([453,  39]))\n",
      "apnea-ecg-database-1.0.0/a05\n",
      "(array(['A', 'N'], dtype='<U1'), array([276, 178]))\n",
      "apnea-ecg-database-1.0.0/a06\n",
      "(array(['A', 'N'], dtype='<U1'), array([206, 304]))\n",
      "apnea-ecg-database-1.0.0/a07\n",
      "(array(['A', 'N'], dtype='<U1'), array([322, 189]))\n",
      "apnea-ecg-database-1.0.0/a08\n",
      "(array(['A', 'N'], dtype='<U1'), array([189, 312]))\n",
      "apnea-ecg-database-1.0.0/a09\n",
      "(array(['A', 'N'], dtype='<U1'), array([381, 114]))\n",
      "apnea-ecg-database-1.0.0/a10\n",
      "(array(['A', 'N'], dtype='<U1'), array([100, 417]))\n",
      "apnea-ecg-database-1.0.0/a11\n",
      "(array(['A', 'N'], dtype='<U1'), array([222, 244]))\n",
      "apnea-ecg-database-1.0.0/a12\n",
      "(array(['A', 'N'], dtype='<U1'), array([534,  43]))\n",
      "apnea-ecg-database-1.0.0/a13\n",
      "(array(['A', 'N'], dtype='<U1'), array([244, 251]))\n",
      "apnea-ecg-database-1.0.0/a14\n",
      "(array(['A', 'N'], dtype='<U1'), array([383, 126]))\n",
      "apnea-ecg-database-1.0.0/a15\n",
      "(array(['A', 'N'], dtype='<U1'), array([368, 142]))\n",
      "apnea-ecg-database-1.0.0/a16\n",
      "(array(['A', 'N'], dtype='<U1'), array([320, 162]))\n",
      "apnea-ecg-database-1.0.0/a17\n",
      "(array(['A', 'N'], dtype='<U1'), array([158, 327]))\n",
      "apnea-ecg-database-1.0.0/a18\n",
      "(array(['A', 'N'], dtype='<U1'), array([438,  51]))\n",
      "apnea-ecg-database-1.0.0/a19\n",
      "(array(['A', 'N'], dtype='<U1'), array([205, 297]))\n",
      "apnea-ecg-database-1.0.0/a20\n",
      "(array(['A', 'N'], dtype='<U1'), array([315, 195]))\n",
      "apnea-ecg-database-1.0.0/b01\n",
      "(array(['A', 'N'], dtype='<U1'), array([ 19, 468]))\n",
      "apnea-ecg-database-1.0.0/b02\n",
      "(array(['A', 'N'], dtype='<U1'), array([ 93, 424]))\n",
      "apnea-ecg-database-1.0.0/b03\n",
      "(array(['A', 'N'], dtype='<U1'), array([ 73, 368]))\n",
      "apnea-ecg-database-1.0.0/b04\n",
      "(array(['A', 'N'], dtype='<U1'), array([ 10, 419]))\n",
      "apnea-ecg-database-1.0.0/b05\n",
      "(array(['A', 'N'], dtype='<U1'), array([ 57, 376]))\n",
      "apnea-ecg-database-1.0.0/c01\n",
      "(array(['N'], dtype='<U1'), array([484]))\n",
      "apnea-ecg-database-1.0.0/c02\n",
      "(array(['A', 'N'], dtype='<U1'), array([  1, 501]))\n",
      "apnea-ecg-database-1.0.0/c03\n",
      "(array(['N'], dtype='<U1'), array([454]))\n",
      "apnea-ecg-database-1.0.0/c04\n",
      "(array(['N'], dtype='<U1'), array([482]))\n",
      "apnea-ecg-database-1.0.0/c05\n",
      "(array(['A', 'N'], dtype='<U1'), array([  3, 463]))\n",
      "apnea-ecg-database-1.0.0/c06\n",
      "(array(['A', 'N'], dtype='<U1'), array([  1, 467]))\n",
      "apnea-ecg-database-1.0.0/c07\n",
      "(array(['A', 'N'], dtype='<U1'), array([  4, 425]))\n",
      "apnea-ecg-database-1.0.0/c08\n",
      "(array(['N'], dtype='<U1'), array([513]))\n",
      "apnea-ecg-database-1.0.0/c09\n",
      "(array(['A', 'N'], dtype='<U1'), array([  2, 466]))\n",
      "apnea-ecg-database-1.0.0/c10\n",
      "(array(['A', 'N'], dtype='<U1'), array([  1, 430]))\n"
     ]
    }
   ],
   "source": [
    "\n",
    "dataset_path = \"apnea-ecg-database-1.0.0\"\n",
    "\n",
    "train_file_names = sorted(list(set([filename[:3]\n",
    "                      for dirname, _, filenames in os.walk(dataset_path)\n",
    "                      for filename in filenames\n",
    "                      if (filename.startswith(\"a\")\n",
    "                      or filename.startswith(\"b\")\n",
    "                      or filename.startswith(\"c\"))\n",
    "                      and len(filename) <= 7\n",
    "                      and \"apn\" in str(filename)])))\n",
    "test_file_names = sorted(list(set([filename[:3]\n",
    "                      for dirname, _, filenames in os.walk(dataset_path)\n",
    "                      for filename in filenames\n",
    "                      if filename.startswith(\"x\")\n",
    "                      and len(filename) <= 7\n",
    "                      and \"apn\" in str(filename)])))\n",
    "\n",
    "# create file path list for dataset\n",
    "train_file_paths = [os.path.join(dataset_path, file_name) for file_name in train_file_names]\n",
    "test_file_paths = [os.path.join(dataset_path, file_name) for file_name in test_file_names]\n",
    "print(\"===> distribution of annotations across files\")\n",
    "for filename in train_file_paths:\n",
    "  annotation = wfdb.rdann(filename, extension=\"apn\")\n",
    "  # Find out which heading contains the labels\n",
    "  annotation.get_label_fields()\n",
    "  # Count number of Apnea-tagged intervals\n",
    "  annotation.symbol.count(\"A\")\n",
    "  # The readings are labelled normal (N) or atrial premature contraction (A)\n",
    "  # There should be 470 As and 19 Ns for \"a01\"\n",
    "  print(filename)\n",
    "  print(np.unique(annotation.symbol, return_counts=True))"
   ]
  },
  {
   "cell_type": "code",
   "execution_count": 17,
   "metadata": {
    "colab": {
     "base_uri": "https://localhost:8080/"
    },
    "id": "KkE9hK_yKxat",
    "outputId": "a5986f70-933c-4b78-aff8-08c33dcbdc51"
   },
   "outputs": [],
   "source": [
    "import os\n",
    "def collate_fn(data):\n",
    "  return data"
   ]
  },
  {
   "cell_type": "code",
   "execution_count": 18,
   "metadata": {
    "colab": {
     "base_uri": "https://localhost:8080/",
     "height": 1000
    },
    "id": "wWQTOCkWViZh",
    "outputId": "2f35b716-57e4-4d1f-d3a6-ca637ac7ee86"
   },
   "outputs": [
    {
     "name": "stdout",
     "output_type": "stream",
     "text": [
      "initialising train dataset for 35 files\n"
     ]
    },
    {
     "name": "stderr",
     "output_type": "stream",
     "text": [
      "/opt/conda/lib/python3.11/site-packages/matplotlib/axes/_axes.py:7947: RuntimeWarning: divide by zero encountered in log10\n",
      "  Z = 10. * np.log10(spec)\n"
     ]
    },
    {
     "name": "stdout",
     "output_type": "stream",
     "text": [
      "number of spectrograms: 489, number of annotations: 489\n",
      "different spectrogram shape at index 488\n",
      "488 (65, 39)\n"
     ]
    },
    {
     "name": "stderr",
     "output_type": "stream",
     "text": [
      "/opt/conda/lib/python3.11/site-packages/matplotlib/axes/_axes.py:7947: RuntimeWarning: divide by zero encountered in log10\n",
      "  Z = 10. * np.log10(spec)\n"
     ]
    },
    {
     "name": "stdout",
     "output_type": "stream",
     "text": [
      "number of spectrograms: 528, number of annotations: 528\n",
      "different spectrogram shape at index 527\n",
      "527 (65, 36)\n"
     ]
    },
    {
     "name": "stderr",
     "output_type": "stream",
     "text": [
      "/opt/conda/lib/python3.11/site-packages/matplotlib/axes/_axes.py:7947: RuntimeWarning: divide by zero encountered in log10\n",
      "  Z = 10. * np.log10(spec)\n"
     ]
    },
    {
     "name": "stdout",
     "output_type": "stream",
     "text": [
      "number of spectrograms: 519, number of annotations: 519\n"
     ]
    },
    {
     "name": "stderr",
     "output_type": "stream",
     "text": [
      "/opt/conda/lib/python3.11/site-packages/matplotlib/axes/_axes.py:7947: RuntimeWarning: divide by zero encountered in log10\n",
      "  Z = 10. * np.log10(spec)\n"
     ]
    },
    {
     "name": "stdout",
     "output_type": "stream",
     "text": [
      "number of spectrograms: 492, number of annotations: 492\n",
      "different spectrogram shape at index 491\n",
      "491 (65, 39)\n",
      "number of spectrograms: 454, number of annotations: 454\n"
     ]
    },
    {
     "name": "stderr",
     "output_type": "stream",
     "text": [
      "/opt/conda/lib/python3.11/site-packages/matplotlib/axes/_axes.py:7947: RuntimeWarning: divide by zero encountered in log10\n",
      "  Z = 10. * np.log10(spec)\n"
     ]
    },
    {
     "name": "stdout",
     "output_type": "stream",
     "text": [
      "number of spectrograms: 510, number of annotations: 510\n",
      "different spectrogram shape at index 509\n",
      "509 (65, 34)\n",
      "number of spectrograms: 511, number of annotations: 511\n",
      "number of spectrograms: 501, number of annotations: 501\n"
     ]
    },
    {
     "name": "stderr",
     "output_type": "stream",
     "text": [
      "/opt/conda/lib/python3.11/site-packages/matplotlib/axes/_axes.py:7947: RuntimeWarning: divide by zero encountered in log10\n",
      "  Z = 10. * np.log10(spec)\n"
     ]
    },
    {
     "name": "stdout",
     "output_type": "stream",
     "text": [
      "number of spectrograms: 495, number of annotations: 495\n",
      "different spectrogram shape at index 494\n",
      "494 (65, 36)\n",
      "number of spectrograms: 517, number of annotations: 517\n",
      "different spectrogram shape at index 516\n",
      "516 (65, 47)\n",
      "number of spectrograms: 466, number of annotations: 466\n",
      "different spectrogram shape at index 465\n",
      "465 (65, 35)\n"
     ]
    },
    {
     "name": "stderr",
     "output_type": "stream",
     "text": [
      "/opt/conda/lib/python3.11/site-packages/matplotlib/axes/_axes.py:7947: RuntimeWarning: divide by zero encountered in log10\n",
      "  Z = 10. * np.log10(spec)\n"
     ]
    },
    {
     "name": "stdout",
     "output_type": "stream",
     "text": [
      "number of spectrograms: 577, number of annotations: 577\n",
      "number of spectrograms: 495, number of annotations: 495\n"
     ]
    },
    {
     "name": "stderr",
     "output_type": "stream",
     "text": [
      "/opt/conda/lib/python3.11/site-packages/matplotlib/axes/_axes.py:7947: RuntimeWarning: divide by zero encountered in log10\n",
      "  Z = 10. * np.log10(spec)\n"
     ]
    },
    {
     "name": "stdout",
     "output_type": "stream",
     "text": [
      "number of spectrograms: 509, number of annotations: 509\n",
      "different spectrogram shape at index 508\n",
      "508 (65, 49)\n"
     ]
    },
    {
     "name": "stderr",
     "output_type": "stream",
     "text": [
      "/opt/conda/lib/python3.11/site-packages/matplotlib/axes/_axes.py:7947: RuntimeWarning: divide by zero encountered in log10\n",
      "  Z = 10. * np.log10(spec)\n"
     ]
    },
    {
     "name": "stdout",
     "output_type": "stream",
     "text": [
      "number of spectrograms: 510, number of annotations: 510\n"
     ]
    },
    {
     "name": "stderr",
     "output_type": "stream",
     "text": [
      "/opt/conda/lib/python3.11/site-packages/matplotlib/axes/_axes.py:7947: RuntimeWarning: divide by zero encountered in log10\n",
      "  Z = 10. * np.log10(spec)\n"
     ]
    },
    {
     "name": "stdout",
     "output_type": "stream",
     "text": [
      "number of spectrograms: 482, number of annotations: 482\n"
     ]
    },
    {
     "name": "stderr",
     "output_type": "stream",
     "text": [
      "/opt/conda/lib/python3.11/site-packages/matplotlib/axes/_axes.py:7947: RuntimeWarning: divide by zero encountered in log10\n",
      "  Z = 10. * np.log10(spec)\n"
     ]
    },
    {
     "name": "stdout",
     "output_type": "stream",
     "text": [
      "number of spectrograms: 485, number of annotations: 485\n",
      "different spectrogram shape at index 484\n",
      "484 (65, 46)\n"
     ]
    },
    {
     "name": "stderr",
     "output_type": "stream",
     "text": [
      "/opt/conda/lib/python3.11/site-packages/matplotlib/axes/_axes.py:7947: RuntimeWarning: divide by zero encountered in log10\n",
      "  Z = 10. * np.log10(spec)\n"
     ]
    },
    {
     "name": "stdout",
     "output_type": "stream",
     "text": [
      "number of spectrograms: 489, number of annotations: 489\n",
      "different spectrogram shape at index 488\n",
      "488 (65, 39)\n",
      "number of spectrograms: 502, number of annotations: 502\n",
      "number of spectrograms: 510, number of annotations: 510\n",
      "number of spectrograms: 487, number of annotations: 487\n"
     ]
    },
    {
     "name": "stderr",
     "output_type": "stream",
     "text": [
      "/opt/conda/lib/python3.11/site-packages/matplotlib/axes/_axes.py:7947: RuntimeWarning: divide by zero encountered in log10\n",
      "  Z = 10. * np.log10(spec)\n"
     ]
    },
    {
     "name": "stdout",
     "output_type": "stream",
     "text": [
      "number of spectrograms: 517, number of annotations: 517\n",
      "number of spectrograms: 441, number of annotations: 441\n"
     ]
    },
    {
     "name": "stderr",
     "output_type": "stream",
     "text": [
      "/opt/conda/lib/python3.11/site-packages/matplotlib/axes/_axes.py:7947: RuntimeWarning: divide by zero encountered in log10\n",
      "  Z = 10. * np.log10(spec)\n"
     ]
    },
    {
     "name": "stdout",
     "output_type": "stream",
     "text": [
      "number of spectrograms: 429, number of annotations: 429\n",
      "different spectrogram shape at index 428\n",
      "428 (65, 44)\n"
     ]
    },
    {
     "name": "stderr",
     "output_type": "stream",
     "text": [
      "/opt/conda/lib/python3.11/site-packages/matplotlib/axes/_axes.py:7947: RuntimeWarning: divide by zero encountered in log10\n",
      "  Z = 10. * np.log10(spec)\n"
     ]
    },
    {
     "name": "stdout",
     "output_type": "stream",
     "text": [
      "number of spectrograms: 433, number of annotations: 433\n"
     ]
    },
    {
     "name": "stderr",
     "output_type": "stream",
     "text": [
      "/opt/conda/lib/python3.11/site-packages/matplotlib/axes/_axes.py:7947: RuntimeWarning: divide by zero encountered in log10\n",
      "  Z = 10. * np.log10(spec)\n"
     ]
    },
    {
     "name": "stdout",
     "output_type": "stream",
     "text": [
      "number of spectrograms: 484, number of annotations: 484\n"
     ]
    },
    {
     "name": "stderr",
     "output_type": "stream",
     "text": [
      "/opt/conda/lib/python3.11/site-packages/matplotlib/axes/_axes.py:7947: RuntimeWarning: divide by zero encountered in log10\n",
      "  Z = 10. * np.log10(spec)\n"
     ]
    },
    {
     "name": "stdout",
     "output_type": "stream",
     "text": [
      "number of spectrograms: 502, number of annotations: 502\n"
     ]
    },
    {
     "name": "stderr",
     "output_type": "stream",
     "text": [
      "/opt/conda/lib/python3.11/site-packages/matplotlib/axes/_axes.py:7947: RuntimeWarning: divide by zero encountered in log10\n",
      "  Z = 10. * np.log10(spec)\n"
     ]
    },
    {
     "name": "stdout",
     "output_type": "stream",
     "text": [
      "number of spectrograms: 454, number of annotations: 454\n"
     ]
    },
    {
     "name": "stderr",
     "output_type": "stream",
     "text": [
      "/opt/conda/lib/python3.11/site-packages/matplotlib/axes/_axes.py:7947: RuntimeWarning: divide by zero encountered in log10\n",
      "  Z = 10. * np.log10(spec)\n"
     ]
    },
    {
     "name": "stdout",
     "output_type": "stream",
     "text": [
      "number of spectrograms: 482, number of annotations: 482\n",
      "number of spectrograms: 466, number of annotations: 466\n"
     ]
    },
    {
     "name": "stderr",
     "output_type": "stream",
     "text": [
      "/opt/conda/lib/python3.11/site-packages/matplotlib/axes/_axes.py:7947: RuntimeWarning: divide by zero encountered in log10\n",
      "  Z = 10. * np.log10(spec)\n"
     ]
    },
    {
     "name": "stdout",
     "output_type": "stream",
     "text": [
      "number of spectrograms: 468, number of annotations: 468\n"
     ]
    },
    {
     "name": "stderr",
     "output_type": "stream",
     "text": [
      "/opt/conda/lib/python3.11/site-packages/matplotlib/axes/_axes.py:7947: RuntimeWarning: divide by zero encountered in log10\n",
      "  Z = 10. * np.log10(spec)\n"
     ]
    },
    {
     "name": "stdout",
     "output_type": "stream",
     "text": [
      "number of spectrograms: 429, number of annotations: 429\n",
      "different spectrogram shape at index 428\n",
      "428 (65, 46)\n"
     ]
    },
    {
     "name": "stderr",
     "output_type": "stream",
     "text": [
      "/opt/conda/lib/python3.11/site-packages/matplotlib/axes/_axes.py:7947: RuntimeWarning: divide by zero encountered in log10\n",
      "  Z = 10. * np.log10(spec)\n"
     ]
    },
    {
     "name": "stdout",
     "output_type": "stream",
     "text": [
      "number of spectrograms: 513, number of annotations: 513\n"
     ]
    },
    {
     "name": "stderr",
     "output_type": "stream",
     "text": [
      "/opt/conda/lib/python3.11/site-packages/matplotlib/axes/_axes.py:7947: RuntimeWarning: divide by zero encountered in log10\n",
      "  Z = 10. * np.log10(spec)\n"
     ]
    },
    {
     "name": "stdout",
     "output_type": "stream",
     "text": [
      "number of spectrograms: 468, number of annotations: 468\n"
     ]
    },
    {
     "name": "stderr",
     "output_type": "stream",
     "text": [
      "/opt/conda/lib/python3.11/site-packages/matplotlib/axes/_axes.py:7947: RuntimeWarning: divide by zero encountered in log10\n",
      "  Z = 10. * np.log10(spec)\n"
     ]
    },
    {
     "name": "stdout",
     "output_type": "stream",
     "text": [
      "number of spectrograms: 431, number of annotations: 431\n",
      "different spectrogram shape at index 430\n",
      "430 (65, 43)\n"
     ]
    },
    {
     "data": {
      "image/png": "[encoded data removed]",
      "text/plain": [
       "<Figure size 640x480 with 1 Axes>"
      ]
     },
     "metadata": {},
     "output_type": "display_data"
    }
   ],
   "source": [
    "\n",
    "# list file names to be included in dataset\n",
    "# train_file_names = [\"a01\",\"a02\",\"a03\",\"a04\",\"a05\",\"a06\",\"a07\",\"a08\",\"a09\",\"b01\",\"b02\",\"b03\",\"b04\",\"b05\",\"c01\",\"c02\",\"c03\",\"c04\",\"c05\",\"c06\",\"c07\",\"c08\",\"c09\"]\n",
    "# create file path list for dataset\n",
    "print(f'initialising train dataset for {len(train_file_names)} files')\n",
    "train_file_paths = [os.path.join(dataset_path, file_name) for file_name in train_file_names]\n",
    "train_dataset = SpectrogramDataset(train_file_paths, resize_spectrogram = False)\n"
   ]
  },
  {
   "cell_type": "code",
   "execution_count": 19,
   "metadata": {
    "colab": {
     "base_uri": "https://localhost:8080/",
     "height": 1000
    },
    "id": "YmCTc-hYCW12",
    "outputId": "3b27fff8-c7db-4b28-befe-ef9693d481f7"
   },
   "outputs": [
    {
     "name": "stdout",
     "output_type": "stream",
     "text": [
      "initialising train dataset for 35 files\n",
      "number of spectrograms: 523, number of annotations: 523\n",
      "different spectrogram shape at index 522\n",
      "522 (65, 43)\n"
     ]
    },
    {
     "name": "stderr",
     "output_type": "stream",
     "text": [
      "/opt/conda/lib/python3.11/site-packages/matplotlib/axes/_axes.py:7947: RuntimeWarning: divide by zero encountered in log10\n",
      "  Z = 10. * np.log10(spec)\n"
     ]
    },
    {
     "name": "stdout",
     "output_type": "stream",
     "text": [
      "number of spectrograms: 469, number of annotations: 469\n",
      "number of spectrograms: 465, number of annotations: 465\n"
     ]
    },
    {
     "name": "stderr",
     "output_type": "stream",
     "text": [
      "/opt/conda/lib/python3.11/site-packages/matplotlib/axes/_axes.py:7947: RuntimeWarning: divide by zero encountered in log10\n",
      "  Z = 10. * np.log10(spec)\n"
     ]
    },
    {
     "name": "stdout",
     "output_type": "stream",
     "text": [
      "number of spectrograms: 482, number of annotations: 482\n",
      "different spectrogram shape at index 481\n",
      "481 (65, 43)\n",
      "number of spectrograms: 505, number of annotations: 505\n"
     ]
    },
    {
     "name": "stderr",
     "output_type": "stream",
     "text": [
      "/opt/conda/lib/python3.11/site-packages/matplotlib/axes/_axes.py:7947: RuntimeWarning: divide by zero encountered in log10\n",
      "  Z = 10. * np.log10(spec)\n"
     ]
    },
    {
     "name": "stdout",
     "output_type": "stream",
     "text": [
      "number of spectrograms: 450, number of annotations: 450\n"
     ]
    },
    {
     "name": "stderr",
     "output_type": "stream",
     "text": [
      "/opt/conda/lib/python3.11/site-packages/matplotlib/axes/_axes.py:7947: RuntimeWarning: divide by zero encountered in log10\n",
      "  Z = 10. * np.log10(spec)\n"
     ]
    },
    {
     "name": "stdout",
     "output_type": "stream",
     "text": [
      "number of spectrograms: 509, number of annotations: 509\n",
      "number of spectrograms: 517, number of annotations: 517\n"
     ]
    },
    {
     "name": "stderr",
     "output_type": "stream",
     "text": [
      "/opt/conda/lib/python3.11/site-packages/matplotlib/axes/_axes.py:7947: RuntimeWarning: divide by zero encountered in log10\n",
      "  Z = 10. * np.log10(spec)\n"
     ]
    },
    {
     "name": "stdout",
     "output_type": "stream",
     "text": [
      "number of spectrograms: 508, number of annotations: 508\n",
      "different spectrogram shape at index 507\n",
      "507 (65, 43)\n"
     ]
    },
    {
     "name": "stderr",
     "output_type": "stream",
     "text": [
      "/opt/conda/lib/python3.11/site-packages/matplotlib/axes/_axes.py:7947: RuntimeWarning: divide by zero encountered in log10\n",
      "  Z = 10. * np.log10(spec)\n"
     ]
    },
    {
     "name": "stdout",
     "output_type": "stream",
     "text": [
      "number of spectrograms: 510, number of annotations: 510\n",
      "different spectrogram shape at index 509\n",
      "509 (65, 29)\n"
     ]
    },
    {
     "name": "stderr",
     "output_type": "stream",
     "text": [
      "/opt/conda/lib/python3.11/site-packages/matplotlib/axes/_axes.py:7947: RuntimeWarning: divide by zero encountered in log10\n",
      "  Z = 10. * np.log10(spec)\n"
     ]
    },
    {
     "name": "stdout",
     "output_type": "stream",
     "text": [
      "number of spectrograms: 457, number of annotations: 457\n",
      "different spectrogram shape at index 456\n",
      "456 (65, 43)\n"
     ]
    },
    {
     "name": "stderr",
     "output_type": "stream",
     "text": [
      "/opt/conda/lib/python3.11/site-packages/matplotlib/axes/_axes.py:7947: RuntimeWarning: divide by zero encountered in log10\n",
      "  Z = 10. * np.log10(spec)\n"
     ]
    },
    {
     "name": "stdout",
     "output_type": "stream",
     "text": [
      "number of spectrograms: 527, number of annotations: 527\n"
     ]
    },
    {
     "name": "stderr",
     "output_type": "stream",
     "text": [
      "/opt/conda/lib/python3.11/site-packages/matplotlib/axes/_axes.py:7947: RuntimeWarning: divide by zero encountered in log10\n",
      "  Z = 10. * np.log10(spec)\n"
     ]
    },
    {
     "name": "stdout",
     "output_type": "stream",
     "text": [
      "number of spectrograms: 506, number of annotations: 506\n",
      "different spectrogram shape at index 505\n",
      "505 (65, 33)\n"
     ]
    },
    {
     "name": "stderr",
     "output_type": "stream",
     "text": [
      "/opt/conda/lib/python3.11/site-packages/matplotlib/axes/_axes.py:7947: RuntimeWarning: divide by zero encountered in log10\n",
      "  Z = 10. * np.log10(spec)\n"
     ]
    },
    {
     "name": "stdout",
     "output_type": "stream",
     "text": [
      "number of spectrograms: 490, number of annotations: 490\n"
     ]
    },
    {
     "name": "stderr",
     "output_type": "stream",
     "text": [
      "/opt/conda/lib/python3.11/site-packages/matplotlib/axes/_axes.py:7947: RuntimeWarning: divide by zero encountered in log10\n",
      "  Z = 10. * np.log10(spec)\n"
     ]
    },
    {
     "name": "stdout",
     "output_type": "stream",
     "text": [
      "number of spectrograms: 498, number of annotations: 498\n",
      "different spectrogram shape at index 497\n",
      "497 (65, 33)\n",
      "number of spectrograms: 515, number of annotations: 515\n",
      "different spectrogram shape at index 514\n",
      "514 (65, 43)\n"
     ]
    },
    {
     "name": "stderr",
     "output_type": "stream",
     "text": [
      "/opt/conda/lib/python3.11/site-packages/matplotlib/axes/_axes.py:7947: RuntimeWarning: divide by zero encountered in log10\n",
      "  Z = 10. * np.log10(spec)\n"
     ]
    },
    {
     "name": "stdout",
     "output_type": "stream",
     "text": [
      "number of spectrograms: 400, number of annotations: 400\n",
      "different spectrogram shape at index 399\n",
      "399 (65, 35)\n"
     ]
    },
    {
     "name": "stderr",
     "output_type": "stream",
     "text": [
      "/opt/conda/lib/python3.11/site-packages/matplotlib/axes/_axes.py:7947: RuntimeWarning: divide by zero encountered in log10\n",
      "  Z = 10. * np.log10(spec)\n"
     ]
    },
    {
     "name": "stdout",
     "output_type": "stream",
     "text": [
      "number of spectrograms: 459, number of annotations: 459\n",
      "different spectrogram shape at index 458\n",
      "458 (65, 43)\n"
     ]
    },
    {
     "name": "stderr",
     "output_type": "stream",
     "text": [
      "/opt/conda/lib/python3.11/site-packages/matplotlib/axes/_axes.py:7947: RuntimeWarning: divide by zero encountered in log10\n",
      "  Z = 10. * np.log10(spec)\n"
     ]
    },
    {
     "name": "stdout",
     "output_type": "stream",
     "text": [
      "number of spectrograms: 487, number of annotations: 487\n",
      "different spectrogram shape at index 486\n",
      "486 (65, 31)\n"
     ]
    },
    {
     "name": "stderr",
     "output_type": "stream",
     "text": [
      "/opt/conda/lib/python3.11/site-packages/matplotlib/axes/_axes.py:7947: RuntimeWarning: divide by zero encountered in log10\n",
      "  Z = 10. * np.log10(spec)\n"
     ]
    },
    {
     "name": "stdout",
     "output_type": "stream",
     "text": [
      "number of spectrograms: 513, number of annotations: 513\n",
      "number of spectrograms: 510, number of annotations: 510\n",
      "different spectrogram shape at index 509\n",
      "509 (65, 29)\n"
     ]
    },
    {
     "name": "stderr",
     "output_type": "stream",
     "text": [
      "/opt/conda/lib/python3.11/site-packages/matplotlib/axes/_axes.py:7947: RuntimeWarning: divide by zero encountered in log10\n",
      "  Z = 10. * np.log10(spec)\n"
     ]
    },
    {
     "name": "stdout",
     "output_type": "stream",
     "text": [
      "number of spectrograms: 482, number of annotations: 482\n"
     ]
    },
    {
     "name": "stderr",
     "output_type": "stream",
     "text": [
      "/opt/conda/lib/python3.11/site-packages/matplotlib/axes/_axes.py:7947: RuntimeWarning: divide by zero encountered in log10\n",
      "  Z = 10. * np.log10(spec)\n"
     ]
    },
    {
     "name": "stdout",
     "output_type": "stream",
     "text": [
      "number of spectrograms: 527, number of annotations: 527\n"
     ]
    },
    {
     "name": "stderr",
     "output_type": "stream",
     "text": [
      "/opt/conda/lib/python3.11/site-packages/matplotlib/axes/_axes.py:7947: RuntimeWarning: divide by zero encountered in log10\n",
      "  Z = 10. * np.log10(spec)\n"
     ]
    },
    {
     "name": "stdout",
     "output_type": "stream",
     "text": [
      "number of spectrograms: 429, number of annotations: 429\n",
      "number of spectrograms: 510, number of annotations: 510\n"
     ]
    },
    {
     "name": "stderr",
     "output_type": "stream",
     "text": [
      "/opt/conda/lib/python3.11/site-packages/matplotlib/axes/_axes.py:7947: RuntimeWarning: divide by zero encountered in log10\n",
      "  Z = 10. * np.log10(spec)\n"
     ]
    },
    {
     "name": "stdout",
     "output_type": "stream",
     "text": [
      "number of spectrograms: 520, number of annotations: 520\n",
      "different spectrogram shape at index 519\n",
      "519 (65, 44)\n",
      "number of spectrograms: 498, number of annotations: 498\n"
     ]
    },
    {
     "name": "stderr",
     "output_type": "stream",
     "text": [
      "/opt/conda/lib/python3.11/site-packages/matplotlib/axes/_axes.py:7947: RuntimeWarning: divide by zero encountered in log10\n",
      "  Z = 10. * np.log10(spec)\n"
     ]
    },
    {
     "name": "stdout",
     "output_type": "stream",
     "text": [
      "number of spectrograms: 495, number of annotations: 495\n"
     ]
    },
    {
     "name": "stderr",
     "output_type": "stream",
     "text": [
      "/opt/conda/lib/python3.11/site-packages/matplotlib/axes/_axes.py:7947: RuntimeWarning: divide by zero encountered in log10\n",
      "  Z = 10. * np.log10(spec)\n"
     ]
    },
    {
     "name": "stdout",
     "output_type": "stream",
     "text": [
      "number of spectrograms: 470, number of annotations: 470\n"
     ]
    },
    {
     "name": "stderr",
     "output_type": "stream",
     "text": [
      "/opt/conda/lib/python3.11/site-packages/matplotlib/axes/_axes.py:7947: RuntimeWarning: divide by zero encountered in log10\n",
      "  Z = 10. * np.log10(spec)\n"
     ]
    },
    {
     "name": "stdout",
     "output_type": "stream",
     "text": [
      "number of spectrograms: 511, number of annotations: 511\n"
     ]
    },
    {
     "name": "stderr",
     "output_type": "stream",
     "text": [
      "/opt/conda/lib/python3.11/site-packages/matplotlib/axes/_axes.py:7947: RuntimeWarning: divide by zero encountered in log10\n",
      "  Z = 10. * np.log10(spec)\n"
     ]
    },
    {
     "name": "stdout",
     "output_type": "stream",
     "text": [
      "number of spectrograms: 557, number of annotations: 557\n"
     ]
    },
    {
     "name": "stderr",
     "output_type": "stream",
     "text": [
      "/opt/conda/lib/python3.11/site-packages/matplotlib/axes/_axes.py:7947: RuntimeWarning: divide by zero encountered in log10\n",
      "  Z = 10. * np.log10(spec)\n"
     ]
    },
    {
     "name": "stdout",
     "output_type": "stream",
     "text": [
      "number of spectrograms: 538, number of annotations: 538\n",
      "number of spectrograms: 473, number of annotations: 473\n",
      "number of spectrograms: 475, number of annotations: 475\n"
     ]
    },
    {
     "name": "stderr",
     "output_type": "stream",
     "text": [
      "/opt/conda/lib/python3.11/site-packages/matplotlib/axes/_axes.py:7947: RuntimeWarning: divide by zero encountered in log10\n",
      "  Z = 10. * np.log10(spec)\n"
     ]
    },
    {
     "name": "stdout",
     "output_type": "stream",
     "text": [
      "number of spectrograms: 483, number of annotations: 483\n"
     ]
    },
    {
     "data": {
      "image/png": "[encoded data removed]",
      "text/plain": [
       "<Figure size 640x480 with 1 Axes>"
      ]
     },
     "metadata": {},
     "output_type": "display_data"
    }
   ],
   "source": [
    "print(f'initialising train dataset for {len(test_file_names)} files')\n",
    "test_file_paths = [os.path.join(dataset_path, file_name) for file_name in test_file_names]\n",
    "test_dataset = SpectrogramDataset(test_file_paths, resize_spectrogram = False)\n"
   ]
  },
  {
   "cell_type": "code",
   "execution_count": 20,
   "metadata": {
    "id": "KYYdEKWEtjmu"
   },
   "outputs": [],
   "source": [
    "train_batch_size = 1\n",
    "test_batch_size = 1\n",
    "train_dl = DataLoader(\n",
    "    train_dataset,\n",
    "    batch_size = train_batch_size,\n",
    "    shuffle = True,\n",
    "    collate_fn = collate_fn,\n",
    "    pin_memory = True\n",
    ")\n",
    "test_dl = DataLoader(\n",
    "    test_dataset,\n",
    "    batch_size = test_batch_size,\n",
    "    shuffle = False,\n",
    "    collate_fn = collate_fn,\n",
    "    pin_memory = True\n",
    ")"
   ]
  },
  {
   "cell_type": "markdown",
   "metadata": {
    "id": "mYgnBg8M4Tm9"
   },
   "source": [
    "### 3.2 CNN-LSTM Model Definition"
   ]
  },
  {
   "cell_type": "code",
   "execution_count": 21,
   "metadata": {
    "id": "5Enm0cbfun2P"
   },
   "outputs": [],
   "source": [
    "class CNN(nn.Module):\n",
    "  def __init__(self,dropout = 0.2):\n",
    "    super().__init__()\n",
    "    self.cnn = nn.Sequential(\n",
    "        # input size (batch_size, 1, 129, 48)\n",
    "        nn.Conv2d(in_channels = 1, out_channels = 128, kernel_size = 2),\n",
    "        nn.BatchNorm2d(128),\n",
    "        nn.ReLU(),\n",
    "        # size(batch_size, 128, 128, 47)\n",
    "        nn.Conv2d(in_channels = 128, out_channels = 128, kernel_size = 2),\n",
    "        nn.BatchNorm2d(128),\n",
    "        nn.ReLU(),\n",
    "        # size(batch_size, 128, 127, 46)\n",
    "        nn.MaxPool2d((2,2)),\n",
    "        # size(batch_size, 128, 63, 23)\n",
    "        nn.Conv2d(in_channels = 128, out_channels = 128, kernel_size = 2),\n",
    "        nn.BatchNorm2d(128),\n",
    "        nn.ReLU(),\n",
    "        # size(batch_size, 128, 62, 22)\n",
    "        nn.MaxPool2d((2,2)),\n",
    "        # # size(batch_size, 128, 31, 11)\n",
    "        nn.Conv2d(in_channels = 128, out_channels = 128, kernel_size = 2),\n",
    "        # nn.ReLU(),\n",
    "        # size(batch_size, 128, 30, 10)\n",
    "        nn.BatchNorm2d(128),\n",
    "        \n",
    "        nn.ReLU(),\n",
    "    )\n",
    "  def forward(self,src):\n",
    "    out = self.cnn(src)\n",
    "    return out"
   ]
  },
  {
   "cell_type": "code",
   "execution_count": 22,
   "metadata": {
    "id": "sPr2gfO_IXEt"
   },
   "outputs": [],
   "source": [
    "class LSTM(nn.Module):\n",
    "  def __init__(self, input_dim = 32 * 7 * 7, hidden_dim = 512, num_layers = 1, dropout = 0.2):\n",
    "    super().__init__()\n",
    "    self.rnn = nn.LSTM(input_size = input_dim, hidden_size = hidden_dim, num_layers = num_layers, batch_first = False)\n",
    "    self.dropout = nn.Dropout(dropout)\n",
    "  def forward(self,src):\n",
    "    # src = self.dropout(src)\n",
    "    return self.rnn(src)"
   ]
  },
  {
   "cell_type": "code",
   "execution_count": 23,
   "metadata": {
    "id": "gnfa0KkCREh6"
   },
   "outputs": [],
   "source": [
    "class Classifier(nn.Module):\n",
    "  def __init__(self,input_dim = 512, dropout = 0.2):\n",
    "    super().__init__()\n",
    "    self.classifier = nn.Sequential(\n",
    "        nn.Linear(input_dim, 1),\n",
    "        nn.Sigmoid(),\n",
    "    )\n",
    "    self.dropout = nn.Dropout(dropout)\n",
    "  def forward(self, src):\n",
    "    out = self.classifier(src)\n",
    "    return out"
   ]
  },
  {
   "cell_type": "code",
   "execution_count": 24,
   "metadata": {
    "id": "KwqCRc-RRusM"
   },
   "outputs": [],
   "source": [
    "class CNN_LSTM(nn.Module):\n",
    "  def __init__(self, dropout = 0.2):\n",
    "    super().__init__()\n",
    "    self.cnn = CNN(dropout)\n",
    "    self.lstm = LSTM(input_dim = 1792, hidden_dim = 512, dropout = dropout, num_layers = 2)\n",
    "    self.classifier = Classifier(input_dim = 512, dropout = dropout)\n",
    "  def forward(self,src):\n",
    "    src = self.cnn(src) # (b, c, h, w)\n",
    "    b,c,h,w = src.shape\n",
    "    src_sequence = src.reshape((w,b,c * h)).to(device)\n",
    "\n",
    "    lstm_outs, (hidden,cell) = self.lstm(src_sequence) # ()\n",
    "\n",
    "    out = self.classifier(lstm_outs[-1])\n",
    "    return out"
   ]
  },
  {
   "cell_type": "markdown",
   "metadata": {
    "id": "Rnq4y8f1PFou"
   },
   "source": [
    "### 3.3 Model Initialisation"
   ]
  },
  {
   "cell_type": "code",
   "execution_count": 46,
   "metadata": {
    "id": "-L_8PUXhsW4f"
   },
   "outputs": [],
   "source": [
    "device = torch.device(\"cuda\" if torch.cuda.is_available() else \"cpu\")\n",
    "\n",
    "def init_weights(m):\n",
    "    for name, param in m.named_parameters():\n",
    "        nn.init.uniform_(param.data, -0.08, 0.08)\n",
    "        \n",
    "def get_model(pretrained_model_location = None):\n",
    "    model = CNN_LSTM(dropout = 0.1)\n",
    "    try:\n",
    "        state_dict = torch.load(pretrained_model_location)\n",
    "        model.load_state_dict(state_dict)\n",
    "        model.to(device)\n",
    "        print('found pretrained model')\n",
    "    except:\n",
    "        model.apply(init_weights)\n",
    "        model.to(device)\n",
    "        print(\"no pretrained model found...\")\n",
    "    return model"
   ]
  },
  {
   "cell_type": "code",
   "execution_count": 47,
   "metadata": {
    "id": "5VJO71glWuAB"
   },
   "outputs": [],
   "source": [
    "\n",
    "def train_CNN_LSTM(model, train_dl, print_interval = 5000):\n",
    "  current_loss = 0\n",
    "  current_accuracy = 0\n",
    "  current_precision = 0\n",
    "  current_recall = 0\n",
    "  outputs_ls = []\n",
    "  trgs_ls = []\n",
    "  model.train()\n",
    "  epoch_loss = 0\n",
    "  epoch_output_ls = []\n",
    "  epoch_trg_ls = []\n",
    "  for i,data in enumerate(train_dl):\n",
    "    optimizer.zero_grad()\n",
    "    src = [_data[0] for _data in data]\n",
    "    trg = [_data[1] for _data in data]\n",
    "    src = torch.stack(src)\n",
    "    b,c,h,w = src.shape\n",
    "    src = src.to(device)\n",
    "    trg = torch.tensor(trg)\n",
    "    trg = trg.to(device)\n",
    "    outputs = model(src)\n",
    "    outputs = outputs.transpose(0,1)\n",
    "    trg = trg.transpose(0,1)\n",
    "    loss = criterion(outputs.float(),trg.float())\n",
    "    current_loss += loss.item()\n",
    "    epoch_loss += loss.item()\n",
    "    loss.backward()\n",
    "    optimizer.step()\n",
    "    outputs,trg = outputs.view(-1),trg.view(-1)\n",
    "\n",
    "    # outputs,trg = outputs.view(-1),trg.view(-1)\n",
    "    epoch_output_ls.extend(outputs.tolist())\n",
    "    epoch_trg_ls.extend(trg.tolist())\n",
    "    outputs_ls.extend(outputs.tolist())\n",
    "    trgs_ls.extend(trg.tolist())\n",
    "    if i % print_interval == 0 and i > 0:\n",
    "      current_accuracy = get_accuracy(outputs_ls, trgs_ls)\n",
    "      precision = get_precision(outputs_ls, trgs_ls)\n",
    "      recall = get_recall(outputs_ls, trgs_ls)\n",
    "      current_precision = precision\n",
    "      current_recall = recall\n",
    "      print('iter',i * train_batch_size)\n",
    "      print('outputs')\n",
    "      print(outputs.tolist())\n",
    "      print('trg')\n",
    "      print(trg.tolist())\n",
    "      print(f'avg accuracy over {print_interval} batches',current_accuracy)\n",
    "      print(f'avg precision over {print_interval} batches',current_precision)\n",
    "      print(f'avg recall over {print_interval} batches',current_recall)\n",
    "      print(f'avg loss over {print_interval} batches',current_loss/print_interval)\n",
    "      outputs_ls = []\n",
    "      trgs_ls = []\n",
    "      current_loss = 0\n",
    "      current_accuracy = 0\n",
    "      current_precision = 0\n",
    "      current_recall = 0\n",
    "  epoch_loss = epoch_loss/len(train_dl)\n",
    "  epoch_accuracy = get_accuracy(epoch_output_ls,epoch_trg_ls)\n",
    "  epoch_precision = get_precision(epoch_output_ls, epoch_trg_ls)\n",
    "  epoch_recall = get_recall(epoch_output_ls, epoch_trg_ls)\n",
    "  return {\n",
    "      \"epoch_loss\":epoch_loss,\n",
    "      \"epoch_accuracy\":epoch_accuracy,\n",
    "      \"epoch_precision\":epoch_precision,\n",
    "      \"epoch_recall\":epoch_recall\n",
    "  }"
   ]
  },
  {
   "cell_type": "code",
   "execution_count": 48,
   "metadata": {
    "id": "ZjZnqulMtBCy"
   },
   "outputs": [],
   "source": [
    "def evaluate_CNN_LSTM(model, test_dl, print_interval = 5000):\n",
    "  current_loss = 0\n",
    "  current_accuracy = 0\n",
    "  current_precision = 0\n",
    "  current_recall = 0\n",
    "  outputs_ls = []\n",
    "  trgs_ls = []\n",
    "  epoch_loss = 0\n",
    "  epoch_output_ls = []\n",
    "  epoch_trg_ls = []\n",
    "  model.eval()\n",
    "  with torch.no_grad():\n",
    "    for i,data in enumerate(test_dl):\n",
    "      src = [_data[0] for _data in data]\n",
    "      trg = [_data[1] for _data in data]\n",
    "      src = torch.stack(src)\n",
    "      b,c,h,w = src.shape\n",
    "      src = src.to(device)\n",
    "      trg = torch.tensor(trg)\n",
    "      trg = trg.to(device)\n",
    "      outputs = model(src)\n",
    "      outputs = outputs.transpose(0,1)\n",
    "      trg = trg.transpose(0,1)\n",
    "      loss = criterion(outputs.float(),trg.float())\n",
    "      current_loss += loss.item()\n",
    "      epoch_loss += loss.item()\n",
    "\n",
    "      outputs,trg = outputs.view(-1),trg.view(-1)\n",
    "      epoch_output_ls.extend(outputs.tolist())\n",
    "      epoch_trg_ls.extend(trg.tolist())\n",
    "      outputs_ls.extend(outputs.tolist())\n",
    "      trgs_ls.extend(trg.tolist())\n",
    "      if i % print_interval == 0:\n",
    "        current_accuracy += get_accuracy(outputs_ls, trgs_ls)\n",
    "        precision = get_precision(outputs_ls, trgs_ls)\n",
    "        recall = get_recall(outputs_ls, trgs_ls)\n",
    "        current_precision = precision\n",
    "        current_recall = recall\n",
    "        print('iter',i * test_batch_size)\n",
    "        print(f'avg accuracy over {print_interval} batches',current_accuracy)\n",
    "        print(f'avg precision over {print_interval} batches',current_precision)\n",
    "        print(f'avg recall over {print_interval} batches',current_recall)\n",
    "        print(f'avg loss over {print_interval} batches',current_loss/print_interval)\n",
    "        outputs_ls = []\n",
    "        trgs_ls = []\n",
    "        current_loss = 0\n",
    "        current_accuracy = 0\n",
    "        current_precision = 0\n",
    "        current_recall = 0\n",
    "  epoch_loss = epoch_loss/len(test_dl)\n",
    "  epoch_accuracy = get_accuracy(epoch_output_ls,epoch_trg_ls)\n",
    "  epoch_precision = get_precision(epoch_output_ls, epoch_trg_ls)\n",
    "  epoch_recall = get_recall(epoch_output_ls, epoch_trg_ls)\n",
    "  return {\n",
    "      \"epoch_loss\":epoch_loss,\n",
    "      \"epoch_accuracy\":epoch_accuracy,\n",
    "      \"epoch_precision\":epoch_precision,\n",
    "      \"epoch_recall\":epoch_recall\n",
    "  }"
   ]
  },
  {
   "cell_type": "code",
   "execution_count": 49,
   "metadata": {
    "id": "9xeLw0CtlK4G"
   },
   "outputs": [],
   "source": [
    "def train_eval_loop(model_name, model, train_func, test_func, train_dl, test_dl, start_epoch = 0, num_epochs = 5, save = True, state_dict_name = \"\", \n",
    "                    print_interval = 5000):\n",
    "  metrics = {\n",
    "      \"model_name\":model_name,\n",
    "      \"num_epochs\":num_epochs,\n",
    "      \"train\":[],\n",
    "      \"test\":[]\n",
    "  }\n",
    "  for epoch in range(start_epoch,start_epoch + num_epochs):\n",
    "    print(f\"===> epoch: {epoch}\")\n",
    "    print(\"===> train metrics\")\n",
    "    train_metrics = train_func(model, train_dl, print_interval = print_interval)\n",
    "    print(train_metrics)\n",
    "    print(\"===> evaluate\")\n",
    "    test_metrics = test_func(model, test_dl, print_interval = print_interval)\n",
    "    print(test_metrics)\n",
    "    metrics[\"train\"].append(train_metrics)\n",
    "    metrics[\"test\"].append(test_metrics)\n",
    "    if save:\n",
    "        save_state_dict(model, f\"{state_dict_name}_{epoch}\")\n",
    "    #     upload_state_dict_to_drive(f\"{state_dict_name}_{epoch}\")\n",
    "  return metrics\n",
    "def eval_loop(model_name, model, test_func, test_dl, print_interval = 5000):\n",
    "  print(\"===> evaluate\")\n",
    "  test_metrics = test_func(model, test_dl, print_interval = print_interval)\n",
    "  print(test_metrics)\n",
    "  return metrics"
   ]
  },
  {
   "cell_type": "code",
   "execution_count": 54,
   "metadata": {
    "colab": {
     "base_uri": "https://localhost:8080/"
    },
    "id": "isAD5Oy8i0D5",
    "outputId": "1f8fdb94-76ef-451e-cb33-964d823a8215"
   },
   "outputs": [
    {
     "name": "stdout",
     "output_type": "stream",
     "text": [
      "found pretrained model\n"
     ]
    },
    {
     "data": {
      "text/plain": [
       "CNN_LSTM(\n",
       "  (cnn): CNN(\n",
       "    (cnn): Sequential(\n",
       "      (0): Conv2d(1, 128, kernel_size=(2, 2), stride=(1, 1))\n",
       "      (1): BatchNorm2d(128, eps=1e-05, momentum=0.1, affine=True, track_running_stats=True)\n",
       "      (2): ReLU()\n",
       "      (3): Conv2d(128, 128, kernel_size=(2, 2), stride=(1, 1))\n",
       "      (4): BatchNorm2d(128, eps=1e-05, momentum=0.1, affine=True, track_running_stats=True)\n",
       "      (5): ReLU()\n",
       "      (6): MaxPool2d(kernel_size=(2, 2), stride=(2, 2), padding=0, dilation=1, ceil_mode=False)\n",
       "      (7): Conv2d(128, 128, kernel_size=(2, 2), stride=(1, 1))\n",
       "      (8): BatchNorm2d(128, eps=1e-05, momentum=0.1, affine=True, track_running_stats=True)\n",
       "      (9): ReLU()\n",
       "      (10): MaxPool2d(kernel_size=(2, 2), stride=(2, 2), padding=0, dilation=1, ceil_mode=False)\n",
       "      (11): Conv2d(128, 128, kernel_size=(2, 2), stride=(1, 1))\n",
       "      (12): BatchNorm2d(128, eps=1e-05, momentum=0.1, affine=True, track_running_stats=True)\n",
       "      (13): ReLU()\n",
       "    )\n",
       "  )\n",
       "  (lstm): LSTM(\n",
       "    (rnn): LSTM(1792, 512, num_layers=2)\n",
       "    (dropout): Dropout(p=0.1, inplace=False)\n",
       "  )\n",
       "  (classifier): Classifier(\n",
       "    (classifier): Sequential(\n",
       "      (0): Linear(in_features=512, out_features=1, bias=True)\n",
       "      (1): Sigmoid()\n",
       "    )\n",
       "    (dropout): Dropout(p=0.1, inplace=False)\n",
       "  )\n",
       ")"
      ]
     },
     "execution_count": 54,
     "metadata": {},
     "output_type": "execute_result"
    }
   ],
   "source": [
    "#replace with desired pretrained model\n",
    "pretrained_model_path = \"cnn_lstm_128_4__1792_512_2_epoch__9\" # using pretrained V4 CNN-LSTM model by default,\n",
    "                                                              # refer to report to see architecture\n",
    "model = get_model(pretrained_model_path)\n",
    "criterion = nn.BCELoss()\n",
    "optimizer = torch.optim.Adam(model.parameters())\n",
    "model"
   ]
  },
  {
   "cell_type": "code",
   "execution_count": 55,
   "metadata": {
    "id": "ZdPZiNyClr_y"
   },
   "outputs": [],
   "source": [
    "from enum import Enum\n",
    "class Models(Enum):\n",
    "  CNN_LSTM = \"CNN_LSTM\"\n",
    "  CNN_LSTM_With_Attention = \"CNN_LSTM_With_Attention\"\n",
    "  PureCNN = \"PureCNN\"\n",
    "  PureLSTM = \"PureLSTM\""
   ]
  },
  {
   "cell_type": "markdown",
   "metadata": {
    "id": "lIjpQ4GNlnyA"
   },
   "source": [
    "### 3.4 Eval Loop"
   ]
  },
  {
   "cell_type": "code",
   "execution_count": 56,
   "metadata": {},
   "outputs": [
    {
     "name": "stdout",
     "output_type": "stream",
     "text": [
      "===> evaluate\n",
      "iter 0\n",
      "avg accuracy over 5000 batches 1.0\n",
      "avg precision over 5000 batches NA\n",
      "avg recall over 5000 batches NA\n",
      "avg loss over 5000 batches 0.0001225396752357483\n",
      "iter 5000\n",
      "avg accuracy over 5000 batches 0.7274\n",
      "avg precision over 5000 batches 0.6112426035502958\n",
      "avg recall over 5000 batches 0.59401955146636\n",
      "avg loss over 5000 batches 0.8085300979760708\n",
      "iter 10000\n",
      "avg accuracy over 5000 batches 0.669\n",
      "avg precision over 5000 batches 0.5500848896434635\n",
      "avg recall over 5000 batches 0.36548223350253806\n",
      "avg loss over 5000 batches 0.7748663990566275\n",
      "iter 15000\n",
      "avg accuracy over 5000 batches 0.6654\n",
      "avg precision over 5000 batches 0.7937956204379562\n",
      "avg recall over 5000 batches 0.37548554164868364\n",
      "avg loss over 5000 batches 0.7746404123387998\n",
      "{'epoch_loss': 0.7725517872311952, 'epoch_accuracy': 0.6823604354876072, 'epoch_precision': 0.6313193588162762, 'epoch_recall': 0.39083969465648855}\n"
     ]
    },
    {
     "data": {
      "text/plain": [
       "[]"
      ]
     },
     "execution_count": 56,
     "metadata": {},
     "output_type": "execute_result"
    }
   ],
   "source": [
    "eval_loop(Models.CNN_LSTM.value, model, evaluate_CNN_LSTM, test_dl)"
   ]
  },
  {
   "cell_type": "markdown",
   "metadata": {},
   "source": [
    "### 3.5 Train  and Eval Loop"
   ]
  },
  {
   "cell_type": "code",
   "execution_count": 57,
   "metadata": {
    "id": "JCoOONN0UTtm"
   },
   "outputs": [],
   "source": [
    "metrics = [] # store train and test metrics in this list"
   ]
  },
  {
   "cell_type": "code",
   "execution_count": null,
   "metadata": {
    "colab": {
     "base_uri": "https://localhost:8080/"
    },
    "id": "l4D23uxoiS23",
    "outputId": "2e978862-bea2-4b58-bd77-128802294d40"
   },
   "outputs": [
    {
     "name": "stdout",
     "output_type": "stream",
     "text": [
      "===> epoch: 0\n",
      "===> train metrics\n",
      "iter 5000\n",
      "outputs\n",
      "[0.23984001576900482]\n",
      "trg\n",
      "[1]\n",
      "avg accuracy over 5000 batches 0.8184363127374525\n",
      "avg precision over 5000 batches 0.8134092346616065\n",
      "avg recall over 5000 batches 0.6771985255397578\n",
      "avg loss over 5000 batches 0.365738812309443\n",
      "iter 10000\n",
      "outputs\n",
      "[0.6122759580612183]\n",
      "trg\n",
      "[1]\n",
      "avg accuracy over 5000 batches 0.8264\n",
      "avg precision over 5000 batches 0.8692307692307693\n",
      "avg recall over 5000 batches 0.646049896049896\n",
      "avg loss over 5000 batches 0.35445059958644703\n"
     ]
    }
   ],
   "source": [
    "\n",
    "metrics.append(train_eval_loop(\n",
    "    Models.CNN_LSTM.value,\n",
    "    model,\n",
    "    train_CNN_LSTM,\n",
    "    evaluate_CNN_LSTM,\n",
    "    train_dl,test_dl,\n",
    "    start_epoch = 0,\n",
    "    num_epochs = 10,\n",
    "    save = False,\n",
    "    print_interval = 5000\n",
    "))\n"
   ]
  },
  {
   "cell_type": "markdown",
   "metadata": {},
   "source": [
    "### 3.6 View Metrics Obtained from Training"
   ]
  },
  {
   "cell_type": "code",
   "execution_count": null,
   "metadata": {
    "colab": {
     "base_uri": "https://localhost:8080/"
    },
    "id": "aH5ujT9wiqHa",
    "outputId": "a3edab01-a2f2-4a5d-8681-50f1387f4df1"
   },
   "outputs": [],
   "source": [
    "flattened_train_metrics = []\n",
    "flattened_test_metrics = []\n",
    "for metric_dict in metrics:\n",
    "  flattened_train_metrics.extend(metric_dict[\"train\"])\n",
    "  flattened_test_metrics.extend(metric_dict[\"test\"])\n",
    "print(flattened_test_metrics)"
   ]
  },
  {
   "cell_type": "code",
   "execution_count": null,
   "metadata": {
    "id": "YcQZlK9S9Ru7"
   },
   "outputs": [],
   "source": [
    "loss_plot = [metric[\"epoch_loss\"] for metric in flattened_test_metrics]\n",
    "precision_plot = [metric[\"epoch_precision\"] for metric in flattened_test_metrics]\n",
    "accuracy_plot = [metric[\"epoch_accuracy\"] for metric in flattened_test_metrics]\n",
    "recall_plot = [metric[\"epoch_recall\"] for metric in flattened_test_metrics]\n",
    "print('loss per epoch',loss_plot)\n",
    "print('precision per epoch',precision_plot)\n",
    "print('accuracy per epoch', accuracy_plot)\n",
    "print('recall per epoch', recall_plot)"
   ]
  },
  {
   "cell_type": "code",
   "execution_count": null,
   "metadata": {
    "colab": {
     "base_uri": "https://localhost:8080/",
     "height": 538
    },
    "id": "_hLt630_IUIf",
    "outputId": "92796d37-833f-4a09-c00b-0108ecc9b2fc"
   },
   "outputs": [],
   "source": [
    "\n",
    "\n",
    "X = np.arange(1,11)\n",
    "print(X.shape)\n",
    "print(np.array(precision_plot).shape)\n",
    "plt.figure(figsize=(10,10))\n",
    "\n",
    "# Initialise the subplot function using number of rows and columns\n",
    "figure, axis = plt.subplots(2, 2)\n",
    "\n",
    "# For Sine Function\n",
    "axis[0, 0].plot(X, np.array(precision_plot))\n",
    "axis[0, 0].set_title(\"Precision / epoch\")\n",
    "\n",
    "# For Cosine Function\n",
    "axis[0, 1].plot(X, np.array(recall_plot))\n",
    "axis[0, 1].set_title(\"Recall / epoch\")\n",
    "\n",
    "# For Tangent Function\n",
    "axis[1, 0].plot(X, np.array(accuracy_plot))\n",
    "axis[1, 0].set_title(\"Accuracy / epoch\")\n",
    "\n",
    "# For Tanh Function\n",
    "axis[1, 1].plot(X, np.array(loss_plot))\n",
    "axis[1, 1].set_title(\"Loss / epoch\")\n",
    "plt.tight_layout()\n",
    "plt.savefig(\"128_conv_1024_hidden_1_layer_lstm\")\n",
    "\n",
    "plt.show()\n",
    "# Image.open('128_conv_1024_hidden_2_layer_lstm.png').save('128_conv_1024_hidden_2_layer_lstm.jpg','JPEG')"
   ]
  },
  {
   "cell_type": "code",
   "execution_count": null,
   "metadata": {},
   "outputs": [],
   "source": []
  }
 ],
 "metadata": {
  "accelerator": "GPU",
  "colab": {
   "collapsed_sections": [
    "Nvz2cDUhV6ll",
    "1jbOfbYTV6lo",
    "iN3ADJZkV6lo",
    "1E4TGJ5AV6lq",
    "LiJdGgX4V6ls",
    "zSTq57ogV6ls",
    "kZQ6Jl9QV6l1",
    "ZD21yDdBV6l1",
    "qezJwR57V6l1",
    "KtxsKT6wV6l2",
    "evnu49BOV6l2",
    "HJgkU72_V6l3",
    "t20qiPuvPBsR"
   ],
   "gpuType": "T4",
   "provenance": []
  },
  "kernelspec": {
   "display_name": "Python 3 (ipykernel)",
   "language": "python",
   "name": "python3"
  },
  "language_info": {
   "codemirror_mode": {
    "name": "ipython",
    "version": 3
   },
   "file_extension": ".py",
   "mimetype": "text/x-python",
   "name": "python",
   "nbconvert_exporter": "python",
   "pygments_lexer": "ipython3",
   "version": "3.11.6"
  }
 },
 "nbformat": 4,
 "nbformat_minor": 4
}
